{
 "cells": [
  {
   "cell_type": "markdown",
   "metadata": {},
   "source": [
    "# TV Script Generation\n",
    "In this project, you'll generate your own [Simpsons](https://en.wikipedia.org/wiki/The_Simpsons) TV scripts using RNNs.  You'll be using part of the [Simpsons dataset](https://www.kaggle.com/wcukierski/the-simpsons-by-the-data) of scripts from 27 seasons.  The Neural Network you'll build will generate a new TV script for a scene at [Moe's Tavern](https://simpsonswiki.com/wiki/Moe's_Tavern).\n",
    "## Get the Data\n",
    "The data is already provided for you.  You'll be using a subset of the original dataset.  It consists of only the scenes in Moe's Tavern.  This doesn't include other versions of the tavern, like \"Moe's Cavern\", \"Flaming Moe's\", \"Uncle Moe's Family Feed-Bag\", etc.."
   ]
  },
  {
   "cell_type": "code",
   "execution_count": 64,
   "metadata": {},
   "outputs": [],
   "source": [
    "\"\"\"\n",
    "DON'T MODIFY ANYTHING IN THIS CELL\n",
    "\"\"\"\n",
    "import helper\n",
    "\n",
    "data_dir = './data/simpsons/moes_tavern_lines.txt'\n",
    "text = helper.load_data(data_dir)\n",
    "# Ignore notice, since we don't use it for analysing the data\n",
    "text = text[81:]"
   ]
  },
  {
   "cell_type": "markdown",
   "metadata": {},
   "source": [
    "## Explore the Data\n",
    "Play around with `view_sentence_range` to view different parts of the data."
   ]
  },
  {
   "cell_type": "code",
   "execution_count": 65,
   "metadata": {},
   "outputs": [
    {
     "name": "stdout",
     "output_type": "stream",
     "text": [
      "Dataset Stats\n",
      "Roughly the number of unique words: 11492\n",
      "Number of scenes: 262\n",
      "Average number of sentences in each scene: 15.248091603053435\n",
      "Number of lines: 4257\n",
      "Average number of words in each line: 11.50434578341555\n",
      "\n",
      "The sentences 0 to 10:\n",
      "Moe_Szyslak: (INTO PHONE) Moe's Tavern. Where the elite meet to drink.\n",
      "Bart_Simpson: Eh, yeah, hello, is Mike there? Last name, Rotch.\n",
      "Moe_Szyslak: (INTO PHONE) Hold on, I'll check. (TO BARFLIES) Mike Rotch. Mike Rotch. Hey, has anybody seen Mike Rotch, lately?\n",
      "Moe_Szyslak: (INTO PHONE) Listen you little puke. One of these days I'm gonna catch you, and I'm gonna carve my name on your back with an ice pick.\n",
      "Moe_Szyslak: What's the matter Homer? You're not your normal effervescent self.\n",
      "Homer_Simpson: I got my problems, Moe. Give me another one.\n",
      "Moe_Szyslak: Homer, hey, you should not drink to forget your problems.\n",
      "Barney_Gumble: Yeah, you should only drink to enhance your social skills.\n",
      "\n",
      "\n"
     ]
    }
   ],
   "source": [
    "view_sentence_range = (0, 10)\n",
    "\n",
    "\"\"\"\n",
    "DON'T MODIFY ANYTHING IN THIS CELL\n",
    "\"\"\"\n",
    "import numpy as np\n",
    "\n",
    "print('Dataset Stats')\n",
    "print('Roughly the number of unique words: {}'.format(len({word: None for word in text.split()})))\n",
    "scenes = text.split('\\n\\n')\n",
    "print('Number of scenes: {}'.format(len(scenes)))\n",
    "sentence_count_scene = [scene.count('\\n') for scene in scenes]\n",
    "print('Average number of sentences in each scene: {}'.format(np.average(sentence_count_scene)))\n",
    "\n",
    "sentences = [sentence for scene in scenes for sentence in scene.split('\\n')]\n",
    "print('Number of lines: {}'.format(len(sentences)))\n",
    "word_count_sentence = [len(sentence.split()) for sentence in sentences]\n",
    "print('Average number of words in each line: {}'.format(np.average(word_count_sentence)))\n",
    "\n",
    "print()\n",
    "print('The sentences {} to {}:'.format(*view_sentence_range))\n",
    "print('\\n'.join(text.split('\\n')[view_sentence_range[0]:view_sentence_range[1]]))"
   ]
  },
  {
   "cell_type": "markdown",
   "metadata": {},
   "source": [
    "## Implement Preprocessing Functions\n",
    "The first thing to do to any dataset is preprocessing.  Implement the following preprocessing functions below:\n",
    "- Lookup Table\n",
    "- Tokenize Punctuation\n",
    "\n",
    "### Lookup Table\n",
    "To create a word embedding, you first need to transform the words to ids.  In this function, create two dictionaries:\n",
    "- Dictionary to go from the words to an id, we'll call `vocab_to_int`\n",
    "- Dictionary to go from the id to word, we'll call `int_to_vocab`\n",
    "\n",
    "Return these dictionaries in the following tuple `(vocab_to_int, int_to_vocab)`"
   ]
  },
  {
   "cell_type": "code",
   "execution_count": 66,
   "metadata": {},
   "outputs": [
    {
     "name": "stdout",
     "output_type": "stream",
     "text": [
      "Tests Passed\n"
     ]
    }
   ],
   "source": [
    "import numpy as np\n",
    "import problem_unittests as tests\n",
    "from collections import Counter\n",
    "\n",
    "def create_lookup_tables(text):\n",
    "    \"\"\"\n",
    "    Create lookup tables for vocabulary\n",
    "    :param text: The text of tv scripts split into words\n",
    "    :return: A tuple of dicts (vocab_to_int, int_to_vocab)\n",
    "    \"\"\"\n",
    "    \n",
    "    #words = text.split()\n",
    "    countWords=Counter(text)\n",
    "    vocab = sorted(countWords, key=countWords.get, reverse=True)\n",
    "    vocab_to_int={word:k for k,word in enumerate(vocab,0)}\n",
    "    int_to_vocab={k:word for k,word in enumerate(vocab,0)}\n",
    "    return vocab_to_int, int_to_vocab\n",
    "\n",
    "\n",
    "\"\"\"\n",
    "DON'T MODIFY ANYTHING IN THIS CELL THAT IS BELOW THIS LINE\n",
    "\"\"\"\n",
    "tests.test_create_lookup_tables(create_lookup_tables)"
   ]
  },
  {
   "cell_type": "markdown",
   "metadata": {},
   "source": [
    "### Tokenize Punctuation\n",
    "We'll be splitting the script into a word array using spaces as delimiters.  However, punctuations like periods and exclamation marks make it hard for the neural network to distinguish between the word \"bye\" and \"bye!\".\n",
    "\n",
    "Implement the function `token_lookup` to return a dict that will be used to tokenize symbols like \"!\" into \"||Exclamation_Mark||\".  Create a dictionary for the following symbols where the symbol is the key and value is the token:\n",
    "- Period ( . )\n",
    "- Comma ( , )\n",
    "- Quotation Mark ( \" )\n",
    "- Semicolon ( ; )\n",
    "- Exclamation mark ( ! )\n",
    "- Question mark ( ? )\n",
    "- Left Parentheses ( ( )\n",
    "- Right Parentheses ( ) )\n",
    "- Dash ( -- )\n",
    "- Return ( \\n )\n",
    "\n",
    "This dictionary will be used to token the symbols and add the delimiter (space) around it.  This separates the symbols as it's own word, making it easier for the neural network to predict on the next word. Make sure you don't use a token that could be confused as a word. Instead of using the token \"dash\", try using something like \"||dash||\"."
   ]
  },
  {
   "cell_type": "code",
   "execution_count": 67,
   "metadata": {},
   "outputs": [
    {
     "name": "stdout",
     "output_type": "stream",
     "text": [
      "Tests Passed\n"
     ]
    }
   ],
   "source": [
    "def token_lookup():\n",
    "    \"\"\"\n",
    "    Generate a dict to turn punctuation into a token.\n",
    "    :return: Tokenize dictionary where the key is the punctuation and the value is the token\n",
    "    \"\"\"\n",
    "    punctuation_to_token={'.':'||Period||',',':'||Comma||','\"':'||QuotationMark||',';':'||Semicolon||','!':'||Exclamationmark||','?':'||Questionmark||','(':'||LeftParenthness||',')':'||RightParenthness||','--':'||Dash||','\\n':'||Return||'}\n",
    "    \n",
    "    return punctuation_to_token\n",
    "\n",
    "\"\"\"\n",
    "DON'T MODIFY ANYTHING IN THIS CELL THAT IS BELOW THIS LINE\n",
    "\"\"\"\n",
    "tests.test_tokenize(token_lookup)"
   ]
  },
  {
   "cell_type": "markdown",
   "metadata": {},
   "source": [
    "## Preprocess all the data and save it\n",
    "Running the code cell below will preprocess all the data and save it to file."
   ]
  },
  {
   "cell_type": "code",
   "execution_count": 68,
   "metadata": {},
   "outputs": [],
   "source": [
    "\"\"\"\n",
    "DON'T MODIFY ANYTHING IN THIS CELL\n",
    "\"\"\"\n",
    "# Preprocess Training, Validation, and Testing Data\n",
    "helper.preprocess_and_save_data(data_dir, token_lookup, create_lookup_tables)"
   ]
  },
  {
   "cell_type": "markdown",
   "metadata": {},
   "source": [
    "# Check Point\n",
    "This is your first checkpoint. If you ever decide to come back to this notebook or have to restart the notebook, you can start from here. The preprocessed data has been saved to disk."
   ]
  },
  {
   "cell_type": "code",
   "execution_count": 69,
   "metadata": {},
   "outputs": [],
   "source": [
    "\"\"\"\n",
    "DON'T MODIFY ANYTHING IN THIS CELL\n",
    "\"\"\"\n",
    "import helper\n",
    "import numpy as np\n",
    "import problem_unittests as tests\n",
    "\n",
    "int_text, vocab_to_int, int_to_vocab, token_dict = helper.load_preprocess()"
   ]
  },
  {
   "cell_type": "markdown",
   "metadata": {},
   "source": [
    "## Build the Neural Network\n",
    "You'll build the components necessary to build a RNN by implementing the following functions below:\n",
    "- get_inputs\n",
    "- get_init_cell\n",
    "- get_embed\n",
    "- build_rnn\n",
    "- build_nn\n",
    "- get_batches\n",
    "\n",
    "### Check the Version of TensorFlow and Access to GPU"
   ]
  },
  {
   "cell_type": "code",
   "execution_count": 70,
   "metadata": {},
   "outputs": [
    {
     "name": "stdout",
     "output_type": "stream",
     "text": [
      "TensorFlow Version: 1.1.0\n",
      "Default GPU Device: /gpu:0\n"
     ]
    }
   ],
   "source": [
    "\"\"\"\n",
    "DON'T MODIFY ANYTHING IN THIS CELL\n",
    "\"\"\"\n",
    "from distutils.version import LooseVersion\n",
    "import warnings\n",
    "import tensorflow as tf\n",
    "\n",
    "# Check TensorFlow Version\n",
    "assert LooseVersion(tf.__version__) >= LooseVersion('1.0'), 'Please use TensorFlow version 1.0 or newer'\n",
    "print('TensorFlow Version: {}'.format(tf.__version__))\n",
    "\n",
    "# Check for a GPU\n",
    "if not tf.test.gpu_device_name():\n",
    "    warnings.warn('No GPU found. Please use a GPU to train your neural network.')\n",
    "else:\n",
    "    print('Default GPU Device: {}'.format(tf.test.gpu_device_name()))"
   ]
  },
  {
   "cell_type": "markdown",
   "metadata": {},
   "source": [
    "### Input\n",
    "Implement the `get_inputs()` function to create TF Placeholders for the Neural Network.  It should create the following placeholders:\n",
    "- Input text placeholder named \"input\" using the [TF Placeholder](https://www.tensorflow.org/api_docs/python/tf/placeholder) `name` parameter.\n",
    "- Targets placeholder\n",
    "- Learning Rate placeholder\n",
    "\n",
    "Return the placeholders in the following tuple `(Input, Targets, LearningRate)`"
   ]
  },
  {
   "cell_type": "code",
   "execution_count": 71,
   "metadata": {},
   "outputs": [
    {
     "name": "stdout",
     "output_type": "stream",
     "text": [
      "Tests Passed\n"
     ]
    }
   ],
   "source": [
    "def get_inputs():\n",
    "    \"\"\"\n",
    "    Create TF Placeholders for input, targets, and learning rate.\n",
    "    :return: Tuple (input, targets, learning rate)\n",
    "    \"\"\"\n",
    "    inputs = tf.placeholder(tf.int32, [None, None], name='input')\n",
    "    targets = tf.placeholder(tf.int32, [None, None], name='targets')\n",
    "    learning_rate = tf.placeholder(tf.float32, name='learning_rate')\n",
    "    return inputs, targets, learning_rate\n",
    "\n",
    "\n",
    "\"\"\"\n",
    "DON'T MODIFY ANYTHING IN THIS CELL THAT IS BELOW THIS LINE\n",
    "\"\"\"\n",
    "tests.test_get_inputs(get_inputs)"
   ]
  },
  {
   "cell_type": "markdown",
   "metadata": {},
   "source": [
    "### Build RNN Cell and Initialize\n",
    "Stack one or more [`BasicLSTMCells`](https://www.tensorflow.org/api_docs/python/tf/contrib/rnn/BasicLSTMCell) in a [`MultiRNNCell`](https://www.tensorflow.org/api_docs/python/tf/contrib/rnn/MultiRNNCell).\n",
    "- The Rnn size should be set using `rnn_size`\n",
    "- Initalize Cell State using the MultiRNNCell's [`zero_state()`](https://www.tensorflow.org/api_docs/python/tf/contrib/rnn/MultiRNNCell#zero_state) function\n",
    "    - Apply the name \"initial_state\" to the initial state using [`tf.identity()`](https://www.tensorflow.org/api_docs/python/tf/identity)\n",
    "\n",
    "Return the cell and initial state in the following tuple `(Cell, InitialState)`"
   ]
  },
  {
   "cell_type": "code",
   "execution_count": 252,
   "metadata": {},
   "outputs": [
    {
     "name": "stdout",
     "output_type": "stream",
     "text": [
      "Tests Passed\n"
     ]
    }
   ],
   "source": [
    "def get_init_cell(batch_size, rnn_size):\n",
    "    \"\"\"\n",
    "    Create an RNN Cell and initialize it.\n",
    "    :param batch_size: Size of batches\n",
    "    :param rnn_size: Size of RNNs\n",
    "    :return: Tuple (cell, initialize state)\n",
    "    \"\"\"\n",
    "    '''\n",
    "    lstm=tf.contrib.rnn.BasicLSTMCell(rnn_size)\n",
    "    drop=tf.contrib.rnn.DropoutWrapper(lstm,output_keep_prob=0.7)\n",
    "    cell=tf.contrib.rnn.MultiRNNCell([drop]*2 )\n",
    "    istate=cell.zero_state(batch_size,tf.float32,)\n",
    "    InitialState=tf.identity(istate,name='initial_state')\n",
    "    \n",
    "    \n",
    "    '''\n",
    "    \n",
    "    \n",
    "    def lstm_cell():\n",
    "        lstm = tf.contrib.rnn.BasicLSTMCell(rnn_size)\n",
    "        drop = tf.contrib.rnn.DropoutWrapper(lstm)\n",
    "        return drop\n",
    "    cell = tf.contrib.rnn.MultiRNNCell([lstm_cell() for _ in range(2)])  # n_layers是LSTM的层数\n",
    "    initial_state = cell.zero_state(batch_size, tf.float32)\n",
    "    InitialState = tf.identity(initial_state, name='initial_state')\n",
    "    \n",
    "    return cell, InitialState\n",
    "\n",
    "\n",
    "\n",
    "\n",
    "\n",
    "\"\"\"\n",
    "DON'T MODIFY ANYTHING IN THIS CELL THAT IS BELOW THIS LINE\n",
    "\"\"\"\n",
    "tests.test_get_init_cell(get_init_cell)"
   ]
  },
  {
   "cell_type": "markdown",
   "metadata": {},
   "source": [
    "### Word Embedding\n",
    "Apply embedding to `input_data` using TensorFlow.  Return the embedded sequence."
   ]
  },
  {
   "cell_type": "code",
   "execution_count": 253,
   "metadata": {},
   "outputs": [
    {
     "name": "stdout",
     "output_type": "stream",
     "text": [
      "Tests Passed\n"
     ]
    }
   ],
   "source": [
    "def get_embed(input_data, vocab_size, embed_dim):\n",
    "    \"\"\"\n",
    "    Create embedding for <input_data>.\n",
    "    :param input_data: TF placeholder for text input.\n",
    "    :param vocab_size: Number of words in vocabulary.\n",
    "    :param embed_dim: Number of embedding dimensions\n",
    "    :return: Embedded input.\n",
    "    \"\"\"\n",
    "    embedding=tf.Variable(tf.random_uniform((vocab_size+1,embed_dim),-1,1))\n",
    "    embed_input=tf.nn.embedding_lookup(embedding,input_data)\n",
    "    return embed_input\n",
    "\n",
    "\n",
    "\"\"\"\n",
    "DON'T MODIFY ANYTHING IN THIS CELL THAT IS BELOW THIS LINE\n",
    "\"\"\"\n",
    "tests.test_get_embed(get_embed)"
   ]
  },
  {
   "cell_type": "markdown",
   "metadata": {},
   "source": [
    "### Build RNN\n",
    "You created a RNN Cell in the `get_init_cell()` function.  Time to use the cell to create a RNN.\n",
    "- Build the RNN using the [`tf.nn.dynamic_rnn()`](https://www.tensorflow.org/api_docs/python/tf/nn/dynamic_rnn)\n",
    " - Apply the name \"final_state\" to the final state using [`tf.identity()`](https://www.tensorflow.org/api_docs/python/tf/identity)\n",
    "\n",
    "Return the outputs and final_state state in the following tuple `(Outputs, FinalState)` "
   ]
  },
  {
   "cell_type": "code",
   "execution_count": 254,
   "metadata": {},
   "outputs": [
    {
     "name": "stdout",
     "output_type": "stream",
     "text": [
      "Tests Passed\n"
     ]
    }
   ],
   "source": [
    "def build_rnn(cell, inputs):\n",
    "    \"\"\"\n",
    "    Create a RNN using a RNN Cell\n",
    "    :param cell: RNN Cell\n",
    "    :param inputs: Input text data\n",
    "    :return: Tuple (Outputs, Final State)\n",
    "    \"\"\"\n",
    "    Outputs,finastate=tf.nn.dynamic_rnn(cell,inputs,dtype=tf.float32)\n",
    "    FinalState=tf.identity(finastate,name='final_state')\n",
    "    return Outputs, FinalState\n",
    "\n",
    "\n",
    "\n",
    "\n",
    "\n",
    "\"\"\"\n",
    "DON'T MODIFY ANYTHING IN THIS CELL THAT IS BELOW THIS LINE\n",
    "\"\"\"\n",
    "tests.test_build_rnn(build_rnn)"
   ]
  },
  {
   "cell_type": "code",
   "execution_count": 255,
   "metadata": {},
   "outputs": [],
   "source": [
    "from tensorflow.contrib import rnn\n",
    "with tf.Graph().as_default():\n",
    "    test_input_data_shape = [128, 5]\n",
    "    test_input_data = tf.placeholder(tf.int32, test_input_data_shape)\n",
    "    test_rnn_size = 256\n",
    "    test_embed_dim = 300\n",
    "    test_rnn_layer_size = 2\n",
    "    test_vocab_size = 27\n",
    "    test_cell = rnn.MultiRNNCell([rnn.BasicLSTMCell(test_rnn_size) for _ in range(test_rnn_layer_size)])\n",
    "    embed=get_embed(test_input_data,test_vocab_size,test_embed_dim)\n",
    "    output,FinalState=build_rnn(test_cell,embed)\n",
    "    #print(output.shape[0])\n",
    "    output.shape.as_list()[1]\n",
    "    weights = tf.Variable(tf.truncated_normal((test_rnn_size, test_vocab_size), stddev=0.1))\n",
    "    bias = tf.Variable(tf.zeros(test_vocab_size))"
   ]
  },
  {
   "cell_type": "code",
   "execution_count": 256,
   "metadata": {},
   "outputs": [],
   "source": [
    "    num=tf.Variable(0)\n",
    "    splitarr=tf.split(output,num_or_size_splits=output.shape.as_list()[0],axis=0)"
   ]
  },
  {
   "cell_type": "code",
   "execution_count": 257,
   "metadata": {},
   "outputs": [],
   "source": [
    "    outy=[]\n",
    "    for nn in range(output.shape.as_list()[0]):\n",
    "        sp=tf.reshape(splitarr[nn],[output.shape.as_list()[1],output.shape.as_list()[2]])\n",
    "        out=tf.add(tf.matmul(sp,weights),bias)\n",
    "        outy.append(out)"
   ]
  },
  {
   "cell_type": "markdown",
   "metadata": {},
   "source": [
    "### Build the Neural Network\n",
    "Apply the functions you implemented above to:\n",
    "- Apply embedding to `input_data` using your `get_embed(input_data, vocab_size, embed_dim)` function.\n",
    "- Build RNN using `cell` and your `build_rnn(cell, inputs)` function.\n",
    "- Apply a fully connected layer with a linear activation and `vocab_size` as the number of outputs.\n",
    "\n",
    "Return the logits and final state in the following tuple (Logits, FinalState) "
   ]
  },
  {
   "cell_type": "code",
   "execution_count": 258,
   "metadata": {},
   "outputs": [
    {
     "data": {
      "text/plain": [
       "<tf.Tensor 'Shape:0' shape=(3,) dtype=int32>"
      ]
     },
     "execution_count": 258,
     "metadata": {},
     "output_type": "execute_result"
    }
   ],
   "source": [
    "tf.shape(output)"
   ]
  },
  {
   "cell_type": "code",
   "execution_count": 259,
   "metadata": {},
   "outputs": [
    {
     "name": "stdout",
     "output_type": "stream",
     "text": [
      "Tests Passed\n"
     ]
    }
   ],
   "source": [
    "def build_nn(cell, rnn_size, input_data, vocab_size, embed_dim):\n",
    "    \"\"\"\n",
    "    Build part of the neural network\n",
    "    :param cell: RNN cell\n",
    "    :param rnn_size: Size of rnns\n",
    "    :param input_data: Input data\n",
    "    :param vocab_size: Vocabulary size\n",
    "    :param embed_dim: Number of embedding dimensions\n",
    "    :return: Tuple (Logits, FinalState)\n",
    "    \"\"\"\n",
    "    embed=get_embed(input_data,vocab_size,embed_dim)\n",
    "    \n",
    "    output,FinalState=build_rnn(cell,embed)\n",
    "    \n",
    "    Logits=tf.contrib.layers.fully_connected(output,vocab_size,activation_fn=tf.nn.relu,weights_initializer=tf.truncated_normal_initializer(stddev=0.1))\n",
    "    \n",
    "    '''\n",
    "    \n",
    "    \n",
    "    splitarr=tf.split(output,num_or_size_splits=output.shape.as_list()[0],axis=0)\n",
    "    \n",
    "    weights=tf.get_variable(\"weight\",[rnn_size,vocab_size])\n",
    "    bias=tf.get_variable(\"bias\",[vocab_size])\n",
    "    \n",
    "    #weights = tf.Variable(tf.truncated_normal((rnn_size, vocab_size), stddev=0.1))\n",
    "    #bias = tf.Variable(tf.zeros(vocab_size))\n",
    "    \n",
    "    outy=[]\n",
    "    for nn in range(output.shape.as_list()[0]):\n",
    "        sp=tf.reshape(splitarr[nn],[output.shape.as_list()[1],output.shape.as_list()[2]])\n",
    "        out=tf.add(tf.matmul(sp,weights),bias)\n",
    "        outy.append(out)\n",
    "    \n",
    "    \n",
    "    #reshape_input = tf.reshape(tf.concat(output, axis=1), [-1, rnn_size])\n",
    "    #out=tf.add(tf.matmul(reshape_input,weights),bias)\n",
    "    Logits=tf.convert_to_tensor(outy, dtype=tf.float32)\n",
    "    #Logits=tf.reshape(Logits,shape=[output.shape.as_list()[0],output.shape.as_list()[1],vocab_size])\n",
    "    '''\n",
    "    \n",
    "    return Logits, FinalState\n",
    "\n",
    "\n",
    "\n",
    "\n",
    "\n",
    "\"\"\"\n",
    "DON'T MODIFY ANYTHING IN THIS CELL THAT IS BELOW THIS LINE\n",
    "\"\"\"\n",
    "tests.test_build_nn(build_nn)"
   ]
  },
  {
   "cell_type": "markdown",
   "metadata": {},
   "source": [
    "### Batches\n",
    "Implement `get_batches` to create batches of input and targets using `int_text`.  The batches should be a Numpy array with the shape `(number of batches, 2, batch size, sequence length)`. Each batch contains two elements:\n",
    "- The first element is a single batch of **input** with the shape `[batch size, sequence length]`\n",
    "- The second element is a single batch of **targets** with the shape `[batch size, sequence length]`\n",
    "\n",
    "If you can't fill the last batch with enough data, drop the last batch.\n",
    "\n",
    "For exmple, `get_batches([1, 2, 3, 4, 5, 6, 7, 8, 9, 10, 11, 12, 13, 14, 15, 16, 17, 18, 19, 20], 3, 2)` would return a Numpy array of the following:\n",
    "```\n",
    "[\n",
    "  # First Batch\n",
    "  [\n",
    "    # Batch of Input\n",
    "    [[ 1  2], [ 7  8], [13 14]]\n",
    "    # Batch of targets\n",
    "    [[ 2  3], [ 8  9], [14 15]]\n",
    "  ]\n",
    "\n",
    "  # Second Batch\n",
    "  [\n",
    "    # Batch of Input\n",
    "    [[ 3  4], [ 9 10], [15 16]]\n",
    "    # Batch of targets\n",
    "    [[ 4  5], [10 11], [16 17]]\n",
    "  ]\n",
    "\n",
    "  # Third Batch\n",
    "  [\n",
    "    # Batch of Input\n",
    "    [[ 5  6], [11 12], [17 18]]\n",
    "    # Batch of targets\n",
    "    [[ 6  7], [12 13], [18  1]]\n",
    "  ]\n",
    "]\n",
    "```\n",
    "\n",
    "Notice that the last target value in the last batch is the first input value of the first batch. In this case, `1`. This is a common technique used when creating sequence batches, although it is rather unintuitive."
   ]
  },
  {
   "cell_type": "code",
   "execution_count": 260,
   "metadata": {},
   "outputs": [
    {
     "name": "stdout",
     "output_type": "stream",
     "text": [
      "Tests Passed\n"
     ]
    }
   ],
   "source": [
    "def get_batches(int_text, batch_size, seq_length):\n",
    "    \"\"\"\n",
    "    Return batches of input and target\n",
    "    :param int_text: Text with the words replaced by their ids\n",
    "    :param batch_size: The size of batch\n",
    "    :param seq_length: The length of sequence\n",
    "    :return: Batches as a Numpy array\n",
    "    \"\"\"\n",
    "    # TODO: Implement Function\n",
    "    batch_length=batch_size*seq_length\n",
    "    n_batches=len(int_text)//batch_length\n",
    "    txtlst=int_text[:n_batches*batch_length]\n",
    "    \n",
    "    arrX=np.array(txtlst)\n",
    "    arrY=np.array(txtlst)\n",
    "    arrY[:-1],arrY[-1]=arrX[1:],arrX[0]\n",
    "    arrX_batch=arrX.reshape((batch_size,-1))\n",
    "    arrY_batch=arrY.reshape((batch_size,-1))\n",
    "    batches=np.zeros((n_batches,2,batch_size,seq_length))\n",
    "    for n in range(0,n_batches):\n",
    "        x=arrX_batch[:,(n*seq_length):(n*seq_length)+seq_length]\n",
    "        y=arrY_batch[:,(n*seq_length):(n*seq_length)+seq_length]\n",
    "        \n",
    "        sub_batch=np.array([x,y])\n",
    "        batches[n,:,:,:]=sub_batch\n",
    "    \n",
    "    return batches\n",
    "\n",
    "\n",
    "\"\"\"\n",
    "DON'T MODIFY ANYTHING IN THIS CELL THAT IS BELOW THIS LINE\n",
    "\"\"\"\n",
    "tests.test_get_batches(get_batches)"
   ]
  },
  {
   "cell_type": "markdown",
   "metadata": {},
   "source": [
    "##### Neural Network Training\n",
    "### Hyperparameters\n",
    "Tune the following parameters:\n",
    "\n",
    "- Set `num_epochs` to the number of epochs.\n",
    "- Set `batch_size` to the batch size.\n",
    "- Set `rnn_size` to the size of the RNNs.\n",
    "- Set `embed_dim` to the size of the embedding.\n",
    "- Set `seq_length` to the length of sequence.\n",
    "- Set `learning_rate` to the learning rate.\n",
    "- Set `show_every_n_batches` to the number of batches the neural network should print progress."
   ]
  },
  {
   "cell_type": "code",
   "execution_count": 270,
   "metadata": {},
   "outputs": [],
   "source": [
    "# Number of Epochs\n",
    "num_epochs = 3000\n",
    "# Batch Size\n",
    "batch_size = 128\n",
    "# RNN Size\n",
    "rnn_size = 256\n",
    "# Embedding Dimension Size\n",
    "embed_dim = 256\n",
    "# Sequence Length\n",
    "seq_length = 50\n",
    "# Learning Rate\n",
    "learning_rate = 0.001\n",
    "# Show stats for every n number of batches\n",
    "show_every_n_batches = 100\n",
    "\n",
    "\"\"\"\n",
    "DON'T MODIFY ANYTHING IN THIS CELL THAT IS BELOW THIS LINE\n",
    "\"\"\"\n",
    "save_dir = './save'"
   ]
  },
  {
   "cell_type": "markdown",
   "metadata": {},
   "source": [
    "### Build the Graph\n",
    "Build the graph using the neural network you implemented."
   ]
  },
  {
   "cell_type": "code",
   "execution_count": 271,
   "metadata": {},
   "outputs": [],
   "source": [
    "\"\"\"\n",
    "DON'T MODIFY ANYTHING IN THIS CELL\n",
    "\"\"\"\n",
    "from tensorflow.contrib import seq2seq\n",
    "\n",
    "train_graph = tf.Graph()\n",
    "with train_graph.as_default():\n",
    "    vocab_size = len(int_to_vocab)\n",
    "    input_text, targets, lr = get_inputs()\n",
    "    input_data_shape = tf.shape(input_text)\n",
    "    cell, initial_state = get_init_cell(input_data_shape[0], rnn_size)\n",
    "    logits, final_state = build_nn(cell, rnn_size, input_text, vocab_size, embed_dim)\n",
    "\n",
    "    # Probabilities for generating words\n",
    "    probs = tf.nn.softmax(logits, name='probs')\n",
    "\n",
    "    # Loss function\n",
    "    cost = seq2seq.sequence_loss(\n",
    "        logits,\n",
    "        targets,\n",
    "        tf.ones([input_data_shape[0], input_data_shape[1]]))\n",
    "\n",
    "    # Optimizer\n",
    "    optimizer = tf.train.AdamOptimizer(lr)\n",
    "\n",
    "    # Gradient Clipping\n",
    "    gradients = optimizer.compute_gradients(cost)\n",
    "    capped_gradients = [(tf.clip_by_value(grad, -1., 1.), var) for grad, var in gradients if grad is not None]\n",
    "    train_op = optimizer.apply_gradients(capped_gradients)"
   ]
  },
  {
   "cell_type": "markdown",
   "metadata": {},
   "source": [
    "## Train\n",
    "Train the neural network on the preprocessed data.  If you have a hard time getting a good loss, check the [forums](https://discussions.udacity.com/) to see if anyone is having the same problem."
   ]
  },
  {
   "cell_type": "code",
   "execution_count": 272,
   "metadata": {},
   "outputs": [
    {
     "name": "stdout",
     "output_type": "stream",
     "text": [
      "Epoch   0 Batch    0/10   train_loss = 8.823\n",
      "Epoch  10 Batch    0/10   train_loss = 5.796\n",
      "Epoch  20 Batch    0/10   train_loss = 5.255\n",
      "Epoch  30 Batch    0/10   train_loss = 4.968\n",
      "Epoch  40 Batch    0/10   train_loss = 4.769\n",
      "Epoch  50 Batch    0/10   train_loss = 4.616\n",
      "Epoch  60 Batch    0/10   train_loss = 4.465\n",
      "Epoch  70 Batch    0/10   train_loss = 4.358\n",
      "Epoch  80 Batch    0/10   train_loss = 4.276\n",
      "Epoch  90 Batch    0/10   train_loss = 4.127\n",
      "Epoch 100 Batch    0/10   train_loss = 3.988\n",
      "Epoch 110 Batch    0/10   train_loss = 3.998\n",
      "Epoch 120 Batch    0/10   train_loss = 3.888\n",
      "Epoch 130 Batch    0/10   train_loss = 3.733\n",
      "Epoch 140 Batch    0/10   train_loss = 3.601\n",
      "Epoch 150 Batch    0/10   train_loss = 3.513\n",
      "Epoch 160 Batch    0/10   train_loss = 3.362\n",
      "Epoch 170 Batch    0/10   train_loss = 3.268\n",
      "Epoch 180 Batch    0/10   train_loss = 3.176\n",
      "Epoch 190 Batch    0/10   train_loss = 3.096\n",
      "Epoch 200 Batch    0/10   train_loss = 2.943\n",
      "Epoch 210 Batch    0/10   train_loss = 2.912\n",
      "Epoch 220 Batch    0/10   train_loss = 2.745\n",
      "Epoch 230 Batch    0/10   train_loss = 2.744\n",
      "Epoch 240 Batch    0/10   train_loss = 2.650\n",
      "Epoch 250 Batch    0/10   train_loss = 2.536\n",
      "Epoch 260 Batch    0/10   train_loss = 2.466\n",
      "Epoch 270 Batch    0/10   train_loss = 2.416\n",
      "Epoch 280 Batch    0/10   train_loss = 2.354\n",
      "Epoch 290 Batch    0/10   train_loss = 2.321\n",
      "Epoch 300 Batch    0/10   train_loss = 2.245\n",
      "Epoch 310 Batch    0/10   train_loss = 2.271\n",
      "Epoch 320 Batch    0/10   train_loss = 2.165\n",
      "Epoch 330 Batch    0/10   train_loss = 2.123\n",
      "Epoch 340 Batch    0/10   train_loss = 2.159\n",
      "Epoch 350 Batch    0/10   train_loss = 2.073\n",
      "Epoch 360 Batch    0/10   train_loss = 2.055\n",
      "Epoch 370 Batch    0/10   train_loss = 2.059\n",
      "Epoch 380 Batch    0/10   train_loss = 2.024\n",
      "Epoch 390 Batch    0/10   train_loss = 2.011\n",
      "Epoch 400 Batch    0/10   train_loss = 2.004\n",
      "Epoch 410 Batch    0/10   train_loss = 2.014\n",
      "Epoch 420 Batch    0/10   train_loss = 2.212\n",
      "Epoch 430 Batch    0/10   train_loss = 1.987\n",
      "Epoch 440 Batch    0/10   train_loss = 1.978\n",
      "Epoch 450 Batch    0/10   train_loss = 1.973\n",
      "Epoch 460 Batch    0/10   train_loss = 1.969\n",
      "Epoch 470 Batch    0/10   train_loss = 1.966\n",
      "Epoch 480 Batch    0/10   train_loss = 1.964\n",
      "Epoch 490 Batch    0/10   train_loss = 1.962\n",
      "Epoch 500 Batch    0/10   train_loss = 1.960\n",
      "Epoch 510 Batch    0/10   train_loss = 1.958\n",
      "Epoch 520 Batch    0/10   train_loss = 1.957\n",
      "Epoch 530 Batch    0/10   train_loss = 1.956\n",
      "Epoch 540 Batch    0/10   train_loss = 1.955\n",
      "Epoch 550 Batch    0/10   train_loss = 1.954\n",
      "Epoch 560 Batch    0/10   train_loss = 1.953\n",
      "Epoch 570 Batch    0/10   train_loss = 1.952\n",
      "Epoch 580 Batch    0/10   train_loss = 1.951\n",
      "Epoch 590 Batch    0/10   train_loss = 1.951\n",
      "Epoch 600 Batch    0/10   train_loss = 1.950\n",
      "Epoch 610 Batch    0/10   train_loss = 1.949\n",
      "Epoch 620 Batch    0/10   train_loss = 1.949\n",
      "Epoch 630 Batch    0/10   train_loss = 1.949\n",
      "Epoch 640 Batch    0/10   train_loss = 1.948\n",
      "Epoch 650 Batch    0/10   train_loss = 1.948\n",
      "Epoch 660 Batch    0/10   train_loss = 1.947\n",
      "Epoch 670 Batch    0/10   train_loss = 1.947\n",
      "Epoch 680 Batch    0/10   train_loss = 1.947\n",
      "Epoch 690 Batch    0/10   train_loss = 1.947\n",
      "Epoch 700 Batch    0/10   train_loss = 1.946\n",
      "Epoch 710 Batch    0/10   train_loss = 1.946\n",
      "Epoch 720 Batch    0/10   train_loss = 1.946\n",
      "Epoch 730 Batch    0/10   train_loss = 1.946\n",
      "Epoch 740 Batch    0/10   train_loss = 1.945\n",
      "Epoch 750 Batch    0/10   train_loss = 1.987\n",
      "Epoch 760 Batch    0/10   train_loss = 1.956\n",
      "Epoch 770 Batch    0/10   train_loss = 1.948\n",
      "Epoch 780 Batch    0/10   train_loss = 1.947\n",
      "Epoch 790 Batch    0/10   train_loss = 1.946\n",
      "Epoch 800 Batch    0/10   train_loss = 1.946\n",
      "Epoch 810 Batch    0/10   train_loss = 1.946\n",
      "Epoch 820 Batch    0/10   train_loss = 1.945\n",
      "Epoch 830 Batch    0/10   train_loss = 1.945\n",
      "Epoch 840 Batch    0/10   train_loss = 1.945\n",
      "Epoch 850 Batch    0/10   train_loss = 1.945\n",
      "Epoch 860 Batch    0/10   train_loss = 1.944\n",
      "Epoch 870 Batch    0/10   train_loss = 1.944\n",
      "Epoch 880 Batch    0/10   train_loss = 1.944\n",
      "Epoch 890 Batch    0/10   train_loss = 1.944\n",
      "Epoch 900 Batch    0/10   train_loss = 1.944\n",
      "Epoch 910 Batch    0/10   train_loss = 1.944\n",
      "Epoch 920 Batch    0/10   train_loss = 1.944\n",
      "Epoch 930 Batch    0/10   train_loss = 1.944\n",
      "Epoch 940 Batch    0/10   train_loss = 1.944\n",
      "Epoch 950 Batch    0/10   train_loss = 1.944\n",
      "Epoch 960 Batch    0/10   train_loss = 1.944\n",
      "Epoch 970 Batch    0/10   train_loss = 1.944\n",
      "Epoch 980 Batch    0/10   train_loss = 1.944\n",
      "Epoch 990 Batch    0/10   train_loss = 1.943\n",
      "Epoch 1000 Batch    0/10   train_loss = 1.943\n",
      "Epoch 1010 Batch    0/10   train_loss = 1.943\n",
      "Epoch 1020 Batch    0/10   train_loss = 1.943\n",
      "Epoch 1030 Batch    0/10   train_loss = 1.943\n",
      "Epoch 1040 Batch    0/10   train_loss = 1.943\n",
      "Epoch 1050 Batch    0/10   train_loss = 1.943\n",
      "Epoch 1060 Batch    0/10   train_loss = 1.943\n",
      "Epoch 1070 Batch    0/10   train_loss = 1.943\n",
      "Epoch 1080 Batch    0/10   train_loss = 1.943\n",
      "Epoch 1090 Batch    0/10   train_loss = 1.943\n",
      "Epoch 1100 Batch    0/10   train_loss = 1.943\n",
      "Epoch 1110 Batch    0/10   train_loss = 1.943\n",
      "Epoch 1120 Batch    0/10   train_loss = 1.943\n",
      "Epoch 1130 Batch    0/10   train_loss = 1.943\n",
      "Epoch 1140 Batch    0/10   train_loss = 1.943\n",
      "Epoch 1150 Batch    0/10   train_loss = 1.943\n",
      "Epoch 1160 Batch    0/10   train_loss = 1.943\n",
      "Epoch 1170 Batch    0/10   train_loss = 1.943\n",
      "Epoch 1180 Batch    0/10   train_loss = 1.943\n",
      "Epoch 1190 Batch    0/10   train_loss = 1.943\n",
      "Epoch 1200 Batch    0/10   train_loss = 1.943\n",
      "Epoch 1210 Batch    0/10   train_loss = 1.943\n",
      "Epoch 1220 Batch    0/10   train_loss = 1.943\n",
      "Epoch 1230 Batch    0/10   train_loss = 1.943\n",
      "Epoch 1240 Batch    0/10   train_loss = 1.943\n",
      "Epoch 1250 Batch    0/10   train_loss = 1.943\n",
      "Epoch 1260 Batch    0/10   train_loss = 1.943\n",
      "Epoch 1270 Batch    0/10   train_loss = 1.943\n",
      "Epoch 1280 Batch    0/10   train_loss = 1.943\n",
      "Epoch 1290 Batch    0/10   train_loss = 1.943\n",
      "Epoch 1300 Batch    0/10   train_loss = 1.948\n",
      "Epoch 1310 Batch    0/10   train_loss = 1.944\n",
      "Epoch 1320 Batch    0/10   train_loss = 1.944\n",
      "Epoch 1330 Batch    0/10   train_loss = 1.943\n",
      "Epoch 1340 Batch    0/10   train_loss = 1.943\n",
      "Epoch 1350 Batch    0/10   train_loss = 1.943\n",
      "Epoch 1360 Batch    0/10   train_loss = 1.943\n",
      "Epoch 1370 Batch    0/10   train_loss = 1.943\n",
      "Epoch 1380 Batch    0/10   train_loss = 1.943\n",
      "Epoch 1390 Batch    0/10   train_loss = 1.943\n",
      "Epoch 1400 Batch    0/10   train_loss = 1.943\n",
      "Epoch 1410 Batch    0/10   train_loss = 1.943\n",
      "Epoch 1420 Batch    0/10   train_loss = 1.943\n",
      "Epoch 1430 Batch    0/10   train_loss = 1.943\n",
      "Epoch 1440 Batch    0/10   train_loss = 1.943\n",
      "Epoch 1450 Batch    0/10   train_loss = 1.943\n",
      "Epoch 1460 Batch    0/10   train_loss = 1.943\n",
      "Epoch 1470 Batch    0/10   train_loss = 1.943\n",
      "Epoch 1480 Batch    0/10   train_loss = 1.943\n",
      "Epoch 1490 Batch    0/10   train_loss = 1.942\n",
      "Epoch 1500 Batch    0/10   train_loss = 1.942\n",
      "Epoch 1510 Batch    0/10   train_loss = 1.942\n",
      "Epoch 1520 Batch    0/10   train_loss = 1.942\n",
      "Epoch 1530 Batch    0/10   train_loss = 1.942\n",
      "Epoch 1540 Batch    0/10   train_loss = 1.942\n",
      "Epoch 1550 Batch    0/10   train_loss = 1.942\n",
      "Epoch 1560 Batch    0/10   train_loss = 1.942\n",
      "Epoch 1570 Batch    0/10   train_loss = 1.942\n",
      "Epoch 1580 Batch    0/10   train_loss = 1.942\n",
      "Epoch 1590 Batch    0/10   train_loss = 1.942\n",
      "Epoch 1600 Batch    0/10   train_loss = 1.942\n",
      "Epoch 1610 Batch    0/10   train_loss = 1.942\n",
      "Epoch 1620 Batch    0/10   train_loss = 1.942\n",
      "Epoch 1630 Batch    0/10   train_loss = 1.942\n",
      "Epoch 1640 Batch    0/10   train_loss = 1.942\n",
      "Epoch 1650 Batch    0/10   train_loss = 1.942\n",
      "Epoch 1660 Batch    0/10   train_loss = 1.942\n",
      "Epoch 1670 Batch    0/10   train_loss = 1.942\n",
      "Epoch 1680 Batch    0/10   train_loss = 1.942\n",
      "Epoch 1690 Batch    0/10   train_loss = 1.942\n",
      "Epoch 1700 Batch    0/10   train_loss = 1.942\n",
      "Epoch 1710 Batch    0/10   train_loss = 1.942\n",
      "Epoch 1720 Batch    0/10   train_loss = 1.942\n",
      "Epoch 1730 Batch    0/10   train_loss = 1.942\n",
      "Epoch 1740 Batch    0/10   train_loss = 1.942\n",
      "Epoch 1750 Batch    0/10   train_loss = 1.942\n",
      "Epoch 1760 Batch    0/10   train_loss = 1.942\n",
      "Epoch 1770 Batch    0/10   train_loss = 1.942\n",
      "Epoch 1780 Batch    0/10   train_loss = 1.942\n",
      "Epoch 1790 Batch    0/10   train_loss = 1.942\n",
      "Epoch 1800 Batch    0/10   train_loss = 1.942\n"
     ]
    },
    {
     "name": "stdout",
     "output_type": "stream",
     "text": [
      "Epoch 1810 Batch    0/10   train_loss = 1.942\n",
      "Epoch 1820 Batch    0/10   train_loss = 1.942\n",
      "Epoch 1830 Batch    0/10   train_loss = 1.942\n",
      "Epoch 1840 Batch    0/10   train_loss = 1.942\n",
      "Epoch 1850 Batch    0/10   train_loss = 1.942\n",
      "Epoch 1860 Batch    0/10   train_loss = 1.942\n",
      "Epoch 1870 Batch    0/10   train_loss = 1.942\n",
      "Epoch 1880 Batch    0/10   train_loss = 1.942\n",
      "Epoch 1890 Batch    0/10   train_loss = 1.942\n",
      "Epoch 1900 Batch    0/10   train_loss = 1.942\n",
      "Epoch 1910 Batch    0/10   train_loss = 1.942\n",
      "Epoch 1920 Batch    0/10   train_loss = 1.942\n",
      "Epoch 1930 Batch    0/10   train_loss = 1.942\n",
      "Epoch 1940 Batch    0/10   train_loss = 1.942\n",
      "Epoch 1950 Batch    0/10   train_loss = 1.942\n",
      "Epoch 1960 Batch    0/10   train_loss = 1.942\n",
      "Epoch 1970 Batch    0/10   train_loss = 1.942\n",
      "Epoch 1980 Batch    0/10   train_loss = 1.942\n",
      "Epoch 1990 Batch    0/10   train_loss = 1.942\n",
      "Epoch 2000 Batch    0/10   train_loss = 1.942\n",
      "Epoch 2010 Batch    0/10   train_loss = 1.942\n",
      "Epoch 2020 Batch    0/10   train_loss = 1.942\n",
      "Epoch 2030 Batch    0/10   train_loss = 1.942\n",
      "Epoch 2040 Batch    0/10   train_loss = 1.942\n",
      "Epoch 2050 Batch    0/10   train_loss = 1.942\n",
      "Epoch 2060 Batch    0/10   train_loss = 1.942\n",
      "Epoch 2070 Batch    0/10   train_loss = 1.942\n",
      "Epoch 2080 Batch    0/10   train_loss = 1.942\n",
      "Epoch 2090 Batch    0/10   train_loss = 1.942\n",
      "Epoch 2100 Batch    0/10   train_loss = 1.942\n",
      "Epoch 2110 Batch    0/10   train_loss = 1.942\n",
      "Epoch 2120 Batch    0/10   train_loss = 1.942\n",
      "Epoch 2130 Batch    0/10   train_loss = 1.942\n",
      "Epoch 2140 Batch    0/10   train_loss = 1.942\n",
      "Epoch 2150 Batch    0/10   train_loss = 1.942\n",
      "Epoch 2160 Batch    0/10   train_loss = 1.975\n",
      "Epoch 2170 Batch    0/10   train_loss = 1.943\n",
      "Epoch 2180 Batch    0/10   train_loss = 1.943\n",
      "Epoch 2190 Batch    0/10   train_loss = 1.943\n",
      "Epoch 2200 Batch    0/10   train_loss = 1.942\n",
      "Epoch 2210 Batch    0/10   train_loss = 1.942\n",
      "Epoch 2220 Batch    0/10   train_loss = 1.942\n",
      "Epoch 2230 Batch    0/10   train_loss = 1.942\n",
      "Epoch 2240 Batch    0/10   train_loss = 1.942\n",
      "Epoch 2250 Batch    0/10   train_loss = 1.942\n",
      "Epoch 2260 Batch    0/10   train_loss = 1.942\n",
      "Epoch 2270 Batch    0/10   train_loss = 1.942\n",
      "Epoch 2280 Batch    0/10   train_loss = 1.942\n",
      "Epoch 2290 Batch    0/10   train_loss = 1.942\n",
      "Epoch 2300 Batch    0/10   train_loss = 1.942\n",
      "Epoch 2310 Batch    0/10   train_loss = 1.942\n",
      "Epoch 2320 Batch    0/10   train_loss = 1.942\n",
      "Epoch 2330 Batch    0/10   train_loss = 1.942\n",
      "Epoch 2340 Batch    0/10   train_loss = 1.942\n",
      "Epoch 2350 Batch    0/10   train_loss = 1.942\n",
      "Epoch 2360 Batch    0/10   train_loss = 1.942\n",
      "Epoch 2370 Batch    0/10   train_loss = 1.942\n",
      "Epoch 2380 Batch    0/10   train_loss = 1.942\n",
      "Epoch 2390 Batch    0/10   train_loss = 1.942\n",
      "Epoch 2400 Batch    0/10   train_loss = 1.942\n",
      "Epoch 2410 Batch    0/10   train_loss = 1.942\n",
      "Epoch 2420 Batch    0/10   train_loss = 1.942\n",
      "Epoch 2430 Batch    0/10   train_loss = 1.942\n",
      "Epoch 2440 Batch    0/10   train_loss = 1.942\n",
      "Epoch 2450 Batch    0/10   train_loss = 1.942\n",
      "Epoch 2460 Batch    0/10   train_loss = 1.942\n",
      "Epoch 2470 Batch    0/10   train_loss = 1.942\n",
      "Epoch 2480 Batch    0/10   train_loss = 1.942\n",
      "Epoch 2490 Batch    0/10   train_loss = 1.942\n",
      "Epoch 2500 Batch    0/10   train_loss = 1.942\n",
      "Epoch 2510 Batch    0/10   train_loss = 1.942\n",
      "Epoch 2520 Batch    0/10   train_loss = 1.942\n",
      "Epoch 2530 Batch    0/10   train_loss = 1.942\n",
      "Epoch 2540 Batch    0/10   train_loss = 1.942\n",
      "Epoch 2550 Batch    0/10   train_loss = 1.942\n",
      "Epoch 2560 Batch    0/10   train_loss = 1.942\n",
      "Epoch 2570 Batch    0/10   train_loss = 1.942\n",
      "Epoch 2580 Batch    0/10   train_loss = 1.942\n",
      "Epoch 2590 Batch    0/10   train_loss = 1.942\n",
      "Epoch 2600 Batch    0/10   train_loss = 1.942\n",
      "Epoch 2610 Batch    0/10   train_loss = 1.942\n",
      "Epoch 2620 Batch    0/10   train_loss = 1.942\n",
      "Epoch 2630 Batch    0/10   train_loss = 1.942\n",
      "Epoch 2640 Batch    0/10   train_loss = 1.942\n",
      "Epoch 2650 Batch    0/10   train_loss = 1.942\n",
      "Epoch 2660 Batch    0/10   train_loss = 1.942\n",
      "Epoch 2670 Batch    0/10   train_loss = 1.942\n",
      "Epoch 2680 Batch    0/10   train_loss = 1.942\n",
      "Epoch 2690 Batch    0/10   train_loss = 1.942\n",
      "Epoch 2700 Batch    0/10   train_loss = 1.942\n",
      "Epoch 2710 Batch    0/10   train_loss = 1.942\n",
      "Epoch 2720 Batch    0/10   train_loss = 2.144\n",
      "Epoch 2730 Batch    0/10   train_loss = 1.943\n",
      "Epoch 2740 Batch    0/10   train_loss = 1.943\n",
      "Epoch 2750 Batch    0/10   train_loss = 1.942\n",
      "Epoch 2760 Batch    0/10   train_loss = 1.942\n",
      "Epoch 2770 Batch    0/10   train_loss = 1.942\n",
      "Epoch 2780 Batch    0/10   train_loss = 1.942\n",
      "Epoch 2790 Batch    0/10   train_loss = 1.942\n",
      "Epoch 2800 Batch    0/10   train_loss = 1.942\n",
      "Epoch 2810 Batch    0/10   train_loss = 1.942\n",
      "Epoch 2820 Batch    0/10   train_loss = 1.942\n",
      "Epoch 2830 Batch    0/10   train_loss = 1.942\n",
      "Epoch 2840 Batch    0/10   train_loss = 1.942\n",
      "Epoch 2850 Batch    0/10   train_loss = 1.942\n",
      "Epoch 2860 Batch    0/10   train_loss = 1.942\n",
      "Epoch 2870 Batch    0/10   train_loss = 1.942\n",
      "Epoch 2880 Batch    0/10   train_loss = 1.942\n",
      "Epoch 2890 Batch    0/10   train_loss = 1.942\n",
      "Epoch 2900 Batch    0/10   train_loss = 1.942\n",
      "Epoch 2910 Batch    0/10   train_loss = 1.942\n",
      "Epoch 2920 Batch    0/10   train_loss = 1.942\n",
      "Epoch 2930 Batch    0/10   train_loss = 1.942\n",
      "Epoch 2940 Batch    0/10   train_loss = 1.942\n",
      "Epoch 2950 Batch    0/10   train_loss = 1.942\n",
      "Epoch 2960 Batch    0/10   train_loss = 1.942\n",
      "Epoch 2970 Batch    0/10   train_loss = 1.942\n",
      "Epoch 2980 Batch    0/10   train_loss = 1.942\n",
      "Epoch 2990 Batch    0/10   train_loss = 1.942\n",
      "Model Trained and Saved\n"
     ]
    }
   ],
   "source": [
    "\"\"\"\n",
    "DON'T MODIFY ANYTHING IN THIS CELL\n",
    "\"\"\"\n",
    "batches = get_batches(int_text, batch_size, seq_length)\n",
    "\n",
    "with tf.Session(graph=train_graph) as sess:\n",
    "    sess.run(tf.global_variables_initializer())\n",
    "\n",
    "    for epoch_i in range(num_epochs):\n",
    "        state = sess.run(initial_state, {input_text: batches[0][0]})\n",
    "\n",
    "        for batch_i, (x, y) in enumerate(batches):\n",
    "            feed = {\n",
    "                input_text: x,\n",
    "                targets: y,\n",
    "                initial_state: state,\n",
    "                lr: learning_rate}\n",
    "            train_loss, state, _ = sess.run([cost, final_state, train_op], feed)\n",
    "\n",
    "            # Show every <show_every_n_batches> batches\n",
    "            if (epoch_i * len(batches) + batch_i) % show_every_n_batches == 0:\n",
    "                print('Epoch {:>3} Batch {:>4}/{}   train_loss = {:.3f}'.format(\n",
    "                    epoch_i,\n",
    "                    batch_i,\n",
    "                    len(batches),\n",
    "                    train_loss))\n",
    "\n",
    "    # Save Model\n",
    "    saver = tf.train.Saver()\n",
    "    saver.save(sess, save_dir)\n",
    "    print('Model Trained and Saved')"
   ]
  },
  {
   "cell_type": "markdown",
   "metadata": {},
   "source": [
    "## Save Parameters\n",
    "Save `seq_length` and `save_dir` for generating a new TV script."
   ]
  },
  {
   "cell_type": "code",
   "execution_count": 273,
   "metadata": {},
   "outputs": [],
   "source": [
    "\"\"\"\n",
    "DON'T MODIFY ANYTHING IN THIS CELL\n",
    "\"\"\"\n",
    "# Save parameters for checkpoint\n",
    "helper.save_params((seq_length, save_dir))"
   ]
  },
  {
   "cell_type": "markdown",
   "metadata": {},
   "source": [
    "# Checkpoint"
   ]
  },
  {
   "cell_type": "code",
   "execution_count": 274,
   "metadata": {},
   "outputs": [],
   "source": [
    "\"\"\"\n",
    "DON'T MODIFY ANYTHING IN THIS CELL\n",
    "\"\"\"\n",
    "import tensorflow as tf\n",
    "import numpy as np\n",
    "import helper\n",
    "import problem_unittests as tests\n",
    "\n",
    "_, vocab_to_int, int_to_vocab, token_dict = helper.load_preprocess()\n",
    "seq_length, load_dir = helper.load_params()"
   ]
  },
  {
   "cell_type": "markdown",
   "metadata": {},
   "source": [
    "## Implement Generate Functions\n",
    "### Get Tensors\n",
    "Get tensors from `loaded_graph` using the function [`get_tensor_by_name()`](https://www.tensorflow.org/api_docs/python/tf/Graph#get_tensor_by_name).  Get the tensors using the following names:\n",
    "- \"input:0\"\n",
    "- \"initial_state:0\"\n",
    "- \"final_state:0\"\n",
    "- \"probs:0\"\n",
    "\n",
    "Return the tensors in the following tuple `(InputTensor, InitialStateTensor, FinalStateTensor, ProbsTensor)` "
   ]
  },
  {
   "cell_type": "code",
   "execution_count": 280,
   "metadata": {},
   "outputs": [
    {
     "name": "stdout",
     "output_type": "stream",
     "text": [
      "Tests Passed\n"
     ]
    }
   ],
   "source": [
    "def get_tensors(loaded_graph):\n",
    "    \"\"\"\n",
    "    Get input, initial state, final state, and probabilities tensor from <loaded_graph>\n",
    "    :param loaded_graph: TensorFlow graph loaded from file\n",
    "    :return: Tuple (InputTensor, InitialStateTensor, FinalStateTensor, ProbsTensor)\n",
    "    \"\"\"\n",
    "    # TODO: Implement Function\n",
    "    InputTensor=loaded_graph.get_tensor_by_name(\"input:0\")\n",
    "    InitialStateTensor=loaded_graph.get_tensor_by_name(\"initial_state:0\")\n",
    "    FinalStateTensor=loaded_graph.get_tensor_by_name(\"final_state:0\")\n",
    "    ProbsTensor=loaded_graph.get_tensor_by_name(\"probs:0\")\n",
    "        \n",
    "    return InputTensor, InitialStateTensor, FinalStateTensor, ProbsTensor\n",
    "\n",
    "\n",
    "\"\"\"\n",
    "DON'T MODIFY ANYTHING IN THIS CELL THAT IS BELOW THIS LINE\n",
    "\"\"\"\n",
    "tests.test_get_tensors(get_tensors)"
   ]
  },
  {
   "cell_type": "markdown",
   "metadata": {},
   "source": [
    "### Choose Word\n",
    "Implement the `pick_word()` function to select the next word using `probabilities`."
   ]
  },
  {
   "cell_type": "code",
   "execution_count": 285,
   "metadata": {},
   "outputs": [
    {
     "name": "stdout",
     "output_type": "stream",
     "text": [
      "Tests Passed\n"
     ]
    }
   ],
   "source": [
    "def pick_word(probabilities, int_to_vocab):\n",
    "    \"\"\"\n",
    "    Pick the next word in the generated text\n",
    "    :param probabilities: Probabilites of the next word\n",
    "    :param int_to_vocab: Dictionary of word ids as the keys and words as the values\n",
    "    :return: String of the predicted word\n",
    "    \"\"\"\n",
    "    # TODO: Implement Function\n",
    "    \n",
    "    op=np.where(probabilities==np.max(probabilities))\n",
    "    \n",
    "    return int_to_vocab[op[0][0]]\n",
    "\n",
    "\n",
    "\"\"\"\n",
    "DON'T MODIFY ANYTHING IN THIS CELL THAT IS BELOW THIS LINE\n",
    "\"\"\"\n",
    "tests.test_pick_word(pick_word)"
   ]
  },
  {
   "cell_type": "markdown",
   "metadata": {},
   "source": [
    "## Generate TV Script\n",
    "This will generate the TV script for you.  Set `gen_length` to the length of TV script you want to generate."
   ]
  },
  {
   "cell_type": "code",
   "execution_count": 286,
   "metadata": {},
   "outputs": [
    {
     "name": "stderr",
     "output_type": "stream",
     "text": [
      "Exception ignored in: <bound method BaseSession.__del__ of <tensorflow.python.client.session.Session object at 0x000000000C5545F8>>\n",
      "Traceback (most recent call last):\n",
      "  File \"D:\\Anaconda3\\envs\\py35\\lib\\site-packages\\tensorflow\\python\\client\\session.py\", line 579, in __del__\n",
      "    if self._session is not None:\n",
      "AttributeError: 'Session' object has no attribute '_session'\n"
     ]
    },
    {
     "name": "stdout",
     "output_type": "stream",
     "text": [
      "INFO:tensorflow:Restoring parameters from ./save\n",
      "moe_szyslak: oh, so you're looking for a new bar to got on a woman. eh? looks like you're going good.\n",
      "moe_szyslak: yeah, i don't know that like to have. i'm... uh... three... three... three.\n",
      "kent_brockman:(..\"\"\n",
      "seymour_skinner:\" moe,\" red\"(. and go to\"...\n",
      "\n",
      "\n",
      "moe_szyslak:(excited) hey, tell me my beer. the house and his wife was better go home.\n",
      "homer_simpson: uh, yeah. so marge. the greatest says he was a man and now a woman. i got ever without him as.\n",
      "carl_carlson: and if you should not drink about in my car.\n",
      "moe_szyslak: beat, ah, stupid it was. i could never hope you should be okay.\n",
      "marge_simpson: hey, i'm on the blue man. it's all way, i got an idea.\n",
      "moe_szyslak: well, a\" help me\" got in a sell it, i am not my?\n"
     ]
    }
   ],
   "source": [
    "gen_length = 200\n",
    "# homer_simpson, moe_szyslak, or Barney_Gumble\n",
    "prime_word = 'moe_szyslak'\n",
    "\n",
    "\"\"\"\n",
    "DON'T MODIFY ANYTHING IN THIS CELL THAT IS BELOW THIS LINE\n",
    "\"\"\"\n",
    "loaded_graph = tf.Graph()\n",
    "with tf.Session(graph=loaded_graph) as sess:\n",
    "    # Load saved model\n",
    "    loader = tf.train.import_meta_graph(load_dir + '.meta')\n",
    "    loader.restore(sess, load_dir)\n",
    "\n",
    "    # Get Tensors from loaded model\n",
    "    input_text, initial_state, final_state, probs = get_tensors(loaded_graph)\n",
    "\n",
    "    # Sentences generation setup\n",
    "    gen_sentences = [prime_word + ':']\n",
    "    prev_state = sess.run(initial_state, {input_text: np.array([[1]])})\n",
    "\n",
    "    # Generate sentences\n",
    "    for n in range(gen_length):\n",
    "        # Dynamic Input\n",
    "        dyn_input = [[vocab_to_int[word] for word in gen_sentences[-seq_length:]]]\n",
    "        dyn_seq_length = len(dyn_input[0])\n",
    "\n",
    "        # Get Prediction\n",
    "        probabilities, prev_state = sess.run(\n",
    "            [probs, final_state],\n",
    "            {input_text: dyn_input, initial_state: prev_state})\n",
    "        \n",
    "        pred_word = pick_word(probabilities[dyn_seq_length-1], int_to_vocab)\n",
    "\n",
    "        gen_sentences.append(pred_word)\n",
    "    \n",
    "    # Remove tokens\n",
    "    tv_script = ' '.join(gen_sentences)\n",
    "    for key, token in token_dict.items():\n",
    "        ending = ' ' if key in ['\\n', '(', '\"'] else ''\n",
    "        tv_script = tv_script.replace(' ' + token.lower(), key)\n",
    "    tv_script = tv_script.replace('\\n ', '\\n')\n",
    "    tv_script = tv_script.replace('( ', '(')\n",
    "        \n",
    "    print(tv_script)"
   ]
  },
  {
   "cell_type": "markdown",
   "metadata": {},
   "source": [
    "# The TV Script is Nonsensical\n",
    "It's ok if the TV script doesn't make any sense.  We trained on less than a megabyte of text.  In order to get good results, you'll have to use a smaller vocabulary or get more data.  Luckly there's more data!  As we mentioned in the begging of this project, this is a subset of [another dataset](https://www.kaggle.com/wcukierski/the-simpsons-by-the-data).  We didn't have you train on all the data, because that would take too long.  However, you are free to train your neural network on all the data.  After you complete the project, of course.\n",
    "# Submitting This Project\n",
    "When submitting this project, make sure to run all the cells before saving the notebook. Save the notebook file as \"dlnd_tv_script_generation.ipynb\" and save it as a HTML file under \"File\" -> \"Download as\". Include the \"helper.py\" and \"problem_unittests.py\" files in your submission."
   ]
  },
  {
   "cell_type": "code",
   "execution_count": null,
   "metadata": {},
   "outputs": [],
   "source": []
  }
 ],
 "metadata": {
  "kernelspec": {
   "display_name": "Python 3",
   "language": "python",
   "name": "python3"
  },
  "language_info": {
   "codemirror_mode": {
    "name": "ipython",
    "version": 3
   },
   "file_extension": ".py",
   "mimetype": "text/x-python",
   "name": "python",
   "nbconvert_exporter": "python",
   "pygments_lexer": "ipython3",
   "version": "3.5.4"
  },
  "widgets": {
   "state": {},
   "version": "1.1.2"
  }
 },
 "nbformat": 4,
 "nbformat_minor": 1
}
