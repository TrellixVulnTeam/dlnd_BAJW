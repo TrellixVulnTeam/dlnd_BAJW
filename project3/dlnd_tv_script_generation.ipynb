{
 "cells": [
  {
   "cell_type": "markdown",
   "metadata": {},
   "source": [
    "# TV Script Generation\n",
    "In this project, you'll generate your own [Simpsons](https://en.wikipedia.org/wiki/The_Simpsons) TV scripts using RNNs.  You'll be using part of the [Simpsons dataset](https://www.kaggle.com/wcukierski/the-simpsons-by-the-data) of scripts from 27 seasons.  The Neural Network you'll build will generate a new TV script for a scene at [Moe's Tavern](https://simpsonswiki.com/wiki/Moe's_Tavern).\n",
    "## Get the Data\n",
    "The data is already provided for you.  You'll be using a subset of the original dataset.  It consists of only the scenes in Moe's Tavern.  This doesn't include other versions of the tavern, like \"Moe's Cavern\", \"Flaming Moe's\", \"Uncle Moe's Family Feed-Bag\", etc.."
   ]
  },
  {
   "cell_type": "code",
   "execution_count": 64,
   "metadata": {},
   "outputs": [],
   "source": [
    "\"\"\"\n",
    "DON'T MODIFY ANYTHING IN THIS CELL\n",
    "\"\"\"\n",
    "import helper\n",
    "\n",
    "data_dir = './data/simpsons/moes_tavern_lines.txt'\n",
    "text = helper.load_data(data_dir)\n",
    "# Ignore notice, since we don't use it for analysing the data\n",
    "text = text[81:]"
   ]
  },
  {
   "cell_type": "markdown",
   "metadata": {},
   "source": [
    "## Explore the Data\n",
    "Play around with `view_sentence_range` to view different parts of the data."
   ]
  },
  {
   "cell_type": "code",
   "execution_count": 65,
   "metadata": {},
   "outputs": [
    {
     "name": "stdout",
     "output_type": "stream",
     "text": [
      "Dataset Stats\n",
      "Roughly the number of unique words: 11492\n",
      "Number of scenes: 262\n",
      "Average number of sentences in each scene: 15.248091603053435\n",
      "Number of lines: 4257\n",
      "Average number of words in each line: 11.50434578341555\n",
      "\n",
      "The sentences 0 to 10:\n",
      "Moe_Szyslak: (INTO PHONE) Moe's Tavern. Where the elite meet to drink.\n",
      "Bart_Simpson: Eh, yeah, hello, is Mike there? Last name, Rotch.\n",
      "Moe_Szyslak: (INTO PHONE) Hold on, I'll check. (TO BARFLIES) Mike Rotch. Mike Rotch. Hey, has anybody seen Mike Rotch, lately?\n",
      "Moe_Szyslak: (INTO PHONE) Listen you little puke. One of these days I'm gonna catch you, and I'm gonna carve my name on your back with an ice pick.\n",
      "Moe_Szyslak: What's the matter Homer? You're not your normal effervescent self.\n",
      "Homer_Simpson: I got my problems, Moe. Give me another one.\n",
      "Moe_Szyslak: Homer, hey, you should not drink to forget your problems.\n",
      "Barney_Gumble: Yeah, you should only drink to enhance your social skills.\n",
      "\n",
      "\n"
     ]
    }
   ],
   "source": [
    "view_sentence_range = (0, 10)\n",
    "\n",
    "\"\"\"\n",
    "DON'T MODIFY ANYTHING IN THIS CELL\n",
    "\"\"\"\n",
    "import numpy as np\n",
    "\n",
    "print('Dataset Stats')\n",
    "print('Roughly the number of unique words: {}'.format(len({word: None for word in text.split()})))\n",
    "scenes = text.split('\\n\\n')\n",
    "print('Number of scenes: {}'.format(len(scenes)))\n",
    "sentence_count_scene = [scene.count('\\n') for scene in scenes]\n",
    "print('Average number of sentences in each scene: {}'.format(np.average(sentence_count_scene)))\n",
    "\n",
    "sentences = [sentence for scene in scenes for sentence in scene.split('\\n')]\n",
    "print('Number of lines: {}'.format(len(sentences)))\n",
    "word_count_sentence = [len(sentence.split()) for sentence in sentences]\n",
    "print('Average number of words in each line: {}'.format(np.average(word_count_sentence)))\n",
    "\n",
    "print()\n",
    "print('The sentences {} to {}:'.format(*view_sentence_range))\n",
    "print('\\n'.join(text.split('\\n')[view_sentence_range[0]:view_sentence_range[1]]))"
   ]
  },
  {
   "cell_type": "markdown",
   "metadata": {},
   "source": [
    "## Implement Preprocessing Functions\n",
    "The first thing to do to any dataset is preprocessing.  Implement the following preprocessing functions below:\n",
    "- Lookup Table\n",
    "- Tokenize Punctuation\n",
    "\n",
    "### Lookup Table\n",
    "To create a word embedding, you first need to transform the words to ids.  In this function, create two dictionaries:\n",
    "- Dictionary to go from the words to an id, we'll call `vocab_to_int`\n",
    "- Dictionary to go from the id to word, we'll call `int_to_vocab`\n",
    "\n",
    "Return these dictionaries in the following tuple `(vocab_to_int, int_to_vocab)`"
   ]
  },
  {
   "cell_type": "code",
   "execution_count": 66,
   "metadata": {},
   "outputs": [
    {
     "name": "stdout",
     "output_type": "stream",
     "text": [
      "Tests Passed\n"
     ]
    }
   ],
   "source": [
    "import numpy as np\n",
    "import problem_unittests as tests\n",
    "from collections import Counter\n",
    "\n",
    "def create_lookup_tables(text):\n",
    "    \"\"\"\n",
    "    Create lookup tables for vocabulary\n",
    "    :param text: The text of tv scripts split into words\n",
    "    :return: A tuple of dicts (vocab_to_int, int_to_vocab)\n",
    "    \"\"\"\n",
    "    \n",
    "    #words = text.split()\n",
    "    countWords=Counter(text)\n",
    "    vocab = sorted(countWords, key=countWords.get, reverse=True)\n",
    "    vocab_to_int={word:k for k,word in enumerate(vocab,0)}\n",
    "    int_to_vocab={k:word for k,word in enumerate(vocab,0)}\n",
    "    return vocab_to_int, int_to_vocab\n",
    "\n",
    "\n",
    "\"\"\"\n",
    "DON'T MODIFY ANYTHING IN THIS CELL THAT IS BELOW THIS LINE\n",
    "\"\"\"\n",
    "tests.test_create_lookup_tables(create_lookup_tables)"
   ]
  },
  {
   "cell_type": "markdown",
   "metadata": {},
   "source": [
    "### Tokenize Punctuation\n",
    "We'll be splitting the script into a word array using spaces as delimiters.  However, punctuations like periods and exclamation marks make it hard for the neural network to distinguish between the word \"bye\" and \"bye!\".\n",
    "\n",
    "Implement the function `token_lookup` to return a dict that will be used to tokenize symbols like \"!\" into \"||Exclamation_Mark||\".  Create a dictionary for the following symbols where the symbol is the key and value is the token:\n",
    "- Period ( . )\n",
    "- Comma ( , )\n",
    "- Quotation Mark ( \" )\n",
    "- Semicolon ( ; )\n",
    "- Exclamation mark ( ! )\n",
    "- Question mark ( ? )\n",
    "- Left Parentheses ( ( )\n",
    "- Right Parentheses ( ) )\n",
    "- Dash ( -- )\n",
    "- Return ( \\n )\n",
    "\n",
    "This dictionary will be used to token the symbols and add the delimiter (space) around it.  This separates the symbols as it's own word, making it easier for the neural network to predict on the next word. Make sure you don't use a token that could be confused as a word. Instead of using the token \"dash\", try using something like \"||dash||\"."
   ]
  },
  {
   "cell_type": "code",
   "execution_count": 67,
   "metadata": {},
   "outputs": [
    {
     "name": "stdout",
     "output_type": "stream",
     "text": [
      "Tests Passed\n"
     ]
    }
   ],
   "source": [
    "def token_lookup():\n",
    "    \"\"\"\n",
    "    Generate a dict to turn punctuation into a token.\n",
    "    :return: Tokenize dictionary where the key is the punctuation and the value is the token\n",
    "    \"\"\"\n",
    "    punctuation_to_token={'.':'||Period||',',':'||Comma||','\"':'||QuotationMark||',';':'||Semicolon||','!':'||Exclamationmark||','?':'||Questionmark||','(':'||LeftParenthness||',')':'||RightParenthness||','--':'||Dash||','\\n':'||Return||'}\n",
    "    \n",
    "    return punctuation_to_token\n",
    "\n",
    "\"\"\"\n",
    "DON'T MODIFY ANYTHING IN THIS CELL THAT IS BELOW THIS LINE\n",
    "\"\"\"\n",
    "tests.test_tokenize(token_lookup)"
   ]
  },
  {
   "cell_type": "markdown",
   "metadata": {},
   "source": [
    "## Preprocess all the data and save it\n",
    "Running the code cell below will preprocess all the data and save it to file."
   ]
  },
  {
   "cell_type": "code",
   "execution_count": 68,
   "metadata": {},
   "outputs": [],
   "source": [
    "\"\"\"\n",
    "DON'T MODIFY ANYTHING IN THIS CELL\n",
    "\"\"\"\n",
    "# Preprocess Training, Validation, and Testing Data\n",
    "helper.preprocess_and_save_data(data_dir, token_lookup, create_lookup_tables)"
   ]
  },
  {
   "cell_type": "markdown",
   "metadata": {},
   "source": [
    "# Check Point\n",
    "This is your first checkpoint. If you ever decide to come back to this notebook or have to restart the notebook, you can start from here. The preprocessed data has been saved to disk."
   ]
  },
  {
   "cell_type": "code",
   "execution_count": 69,
   "metadata": {},
   "outputs": [],
   "source": [
    "\"\"\"\n",
    "DON'T MODIFY ANYTHING IN THIS CELL\n",
    "\"\"\"\n",
    "import helper\n",
    "import numpy as np\n",
    "import problem_unittests as tests\n",
    "\n",
    "int_text, vocab_to_int, int_to_vocab, token_dict = helper.load_preprocess()"
   ]
  },
  {
   "cell_type": "markdown",
   "metadata": {},
   "source": [
    "## Build the Neural Network\n",
    "You'll build the components necessary to build a RNN by implementing the following functions below:\n",
    "- get_inputs\n",
    "- get_init_cell\n",
    "- get_embed\n",
    "- build_rnn\n",
    "- build_nn\n",
    "- get_batches\n",
    "\n",
    "### Check the Version of TensorFlow and Access to GPU"
   ]
  },
  {
   "cell_type": "code",
   "execution_count": 70,
   "metadata": {},
   "outputs": [
    {
     "name": "stdout",
     "output_type": "stream",
     "text": [
      "TensorFlow Version: 1.1.0\n",
      "Default GPU Device: /gpu:0\n"
     ]
    }
   ],
   "source": [
    "\"\"\"\n",
    "DON'T MODIFY ANYTHING IN THIS CELL\n",
    "\"\"\"\n",
    "from distutils.version import LooseVersion\n",
    "import warnings\n",
    "import tensorflow as tf\n",
    "\n",
    "# Check TensorFlow Version\n",
    "assert LooseVersion(tf.__version__) >= LooseVersion('1.0'), 'Please use TensorFlow version 1.0 or newer'\n",
    "print('TensorFlow Version: {}'.format(tf.__version__))\n",
    "\n",
    "# Check for a GPU\n",
    "if not tf.test.gpu_device_name():\n",
    "    warnings.warn('No GPU found. Please use a GPU to train your neural network.')\n",
    "else:\n",
    "    print('Default GPU Device: {}'.format(tf.test.gpu_device_name()))"
   ]
  },
  {
   "cell_type": "markdown",
   "metadata": {},
   "source": [
    "### Input\n",
    "Implement the `get_inputs()` function to create TF Placeholders for the Neural Network.  It should create the following placeholders:\n",
    "- Input text placeholder named \"input\" using the [TF Placeholder](https://www.tensorflow.org/api_docs/python/tf/placeholder) `name` parameter.\n",
    "- Targets placeholder\n",
    "- Learning Rate placeholder\n",
    "\n",
    "Return the placeholders in the following tuple `(Input, Targets, LearningRate)`"
   ]
  },
  {
   "cell_type": "code",
   "execution_count": 71,
   "metadata": {},
   "outputs": [
    {
     "name": "stdout",
     "output_type": "stream",
     "text": [
      "Tests Passed\n"
     ]
    }
   ],
   "source": [
    "def get_inputs():\n",
    "    \"\"\"\n",
    "    Create TF Placeholders for input, targets, and learning rate.\n",
    "    :return: Tuple (input, targets, learning rate)\n",
    "    \"\"\"\n",
    "    inputs = tf.placeholder(tf.int32, [None, None], name='input')\n",
    "    targets = tf.placeholder(tf.int32, [None, None], name='targets')\n",
    "    learning_rate = tf.placeholder(tf.float32, name='learning_rate')\n",
    "    return inputs, targets, learning_rate\n",
    "\n",
    "\n",
    "\"\"\"\n",
    "DON'T MODIFY ANYTHING IN THIS CELL THAT IS BELOW THIS LINE\n",
    "\"\"\"\n",
    "tests.test_get_inputs(get_inputs)"
   ]
  },
  {
   "cell_type": "markdown",
   "metadata": {},
   "source": [
    "### Build RNN Cell and Initialize\n",
    "Stack one or more [`BasicLSTMCells`](https://www.tensorflow.org/api_docs/python/tf/contrib/rnn/BasicLSTMCell) in a [`MultiRNNCell`](https://www.tensorflow.org/api_docs/python/tf/contrib/rnn/MultiRNNCell).\n",
    "- The Rnn size should be set using `rnn_size`\n",
    "- Initalize Cell State using the MultiRNNCell's [`zero_state()`](https://www.tensorflow.org/api_docs/python/tf/contrib/rnn/MultiRNNCell#zero_state) function\n",
    "    - Apply the name \"initial_state\" to the initial state using [`tf.identity()`](https://www.tensorflow.org/api_docs/python/tf/identity)\n",
    "\n",
    "Return the cell and initial state in the following tuple `(Cell, InitialState)`"
   ]
  },
  {
   "cell_type": "code",
   "execution_count": 252,
   "metadata": {},
   "outputs": [
    {
     "name": "stdout",
     "output_type": "stream",
     "text": [
      "Tests Passed\n"
     ]
    }
   ],
   "source": [
    "def get_init_cell(batch_size, rnn_size):\n",
    "    \"\"\"\n",
    "    Create an RNN Cell and initialize it.\n",
    "    :param batch_size: Size of batches\n",
    "    :param rnn_size: Size of RNNs\n",
    "    :return: Tuple (cell, initialize state)\n",
    "    \"\"\"\n",
    "    '''\n",
    "    lstm=tf.contrib.rnn.BasicLSTMCell(rnn_size)\n",
    "    drop=tf.contrib.rnn.DropoutWrapper(lstm,output_keep_prob=0.7)\n",
    "    cell=tf.contrib.rnn.MultiRNNCell([drop]*2 )\n",
    "    istate=cell.zero_state(batch_size,tf.float32,)\n",
    "    InitialState=tf.identity(istate,name='initial_state')\n",
    "    \n",
    "    \n",
    "    '''\n",
    "    \n",
    "    \n",
    "    def lstm_cell():\n",
    "        lstm = tf.contrib.rnn.BasicLSTMCell(rnn_size)\n",
    "        drop = tf.contrib.rnn.DropoutWrapper(lstm)\n",
    "        return drop\n",
    "    cell = tf.contrib.rnn.MultiRNNCell([lstm_cell() for _ in range(2)])  # n_layers是LSTM的层数\n",
    "    initial_state = cell.zero_state(batch_size, tf.float32)\n",
    "    InitialState = tf.identity(initial_state, name='initial_state')\n",
    "    \n",
    "    return cell, InitialState\n",
    "\n",
    "\n",
    "\n",
    "\n",
    "\n",
    "\"\"\"\n",
    "DON'T MODIFY ANYTHING IN THIS CELL THAT IS BELOW THIS LINE\n",
    "\"\"\"\n",
    "tests.test_get_init_cell(get_init_cell)"
   ]
  },
  {
   "cell_type": "markdown",
   "metadata": {},
   "source": [
    "### Word Embedding\n",
    "Apply embedding to `input_data` using TensorFlow.  Return the embedded sequence."
   ]
  },
  {
   "cell_type": "code",
   "execution_count": 253,
   "metadata": {},
   "outputs": [
    {
     "name": "stdout",
     "output_type": "stream",
     "text": [
      "Tests Passed\n"
     ]
    }
   ],
   "source": [
    "def get_embed(input_data, vocab_size, embed_dim):\n",
    "    \"\"\"\n",
    "    Create embedding for <input_data>.\n",
    "    :param input_data: TF placeholder for text input.\n",
    "    :param vocab_size: Number of words in vocabulary.\n",
    "    :param embed_dim: Number of embedding dimensions\n",
    "    :return: Embedded input.\n",
    "    \"\"\"\n",
    "    embedding=tf.Variable(tf.random_uniform((vocab_size+1,embed_dim),-1,1))\n",
    "    embed_input=tf.nn.embedding_lookup(embedding,input_data)\n",
    "    return embed_input\n",
    "\n",
    "\n",
    "\"\"\"\n",
    "DON'T MODIFY ANYTHING IN THIS CELL THAT IS BELOW THIS LINE\n",
    "\"\"\"\n",
    "tests.test_get_embed(get_embed)"
   ]
  },
  {
   "cell_type": "markdown",
   "metadata": {},
   "source": [
    "### Build RNN\n",
    "You created a RNN Cell in the `get_init_cell()` function.  Time to use the cell to create a RNN.\n",
    "- Build the RNN using the [`tf.nn.dynamic_rnn()`](https://www.tensorflow.org/api_docs/python/tf/nn/dynamic_rnn)\n",
    " - Apply the name \"final_state\" to the final state using [`tf.identity()`](https://www.tensorflow.org/api_docs/python/tf/identity)\n",
    "\n",
    "Return the outputs and final_state state in the following tuple `(Outputs, FinalState)` "
   ]
  },
  {
   "cell_type": "code",
   "execution_count": 254,
   "metadata": {},
   "outputs": [
    {
     "name": "stdout",
     "output_type": "stream",
     "text": [
      "Tests Passed\n"
     ]
    }
   ],
   "source": [
    "def build_rnn(cell, inputs):\n",
    "    \"\"\"\n",
    "    Create a RNN using a RNN Cell\n",
    "    :param cell: RNN Cell\n",
    "    :param inputs: Input text data\n",
    "    :return: Tuple (Outputs, Final State)\n",
    "    \"\"\"\n",
    "    Outputs,finastate=tf.nn.dynamic_rnn(cell,inputs,dtype=tf.float32)\n",
    "    FinalState=tf.identity(finastate,name='final_state')\n",
    "    return Outputs, FinalState\n",
    "\n",
    "\n",
    "\n",
    "\n",
    "\n",
    "\"\"\"\n",
    "DON'T MODIFY ANYTHING IN THIS CELL THAT IS BELOW THIS LINE\n",
    "\"\"\"\n",
    "tests.test_build_rnn(build_rnn)"
   ]
  },
  {
   "cell_type": "markdown",
   "metadata": {},
   "source": [
    "### Build the Neural Network\n",
    "Apply the functions you implemented above to:\n",
    "- Apply embedding to `input_data` using your `get_embed(input_data, vocab_size, embed_dim)` function.\n",
    "- Build RNN using `cell` and your `build_rnn(cell, inputs)` function.\n",
    "- Apply a fully connected layer with a linear activation and `vocab_size` as the number of outputs.\n",
    "\n",
    "Return the logits and final state in the following tuple (Logits, FinalState) "
   ]
  },
  {
   "cell_type": "code",
   "execution_count": 258,
   "metadata": {},
   "outputs": [
    {
     "data": {
      "text/plain": [
       "<tf.Tensor 'Shape:0' shape=(3,) dtype=int32>"
      ]
     },
     "execution_count": 258,
     "metadata": {},
     "output_type": "execute_result"
    }
   ],
   "source": [
    "tf.shape(output)"
   ]
  },
  {
   "cell_type": "code",
   "execution_count": 319,
   "metadata": {},
   "outputs": [
    {
     "name": "stdout",
     "output_type": "stream",
     "text": [
      "Tests Passed\n"
     ]
    }
   ],
   "source": [
    "def build_nn(cell, rnn_size, input_data, vocab_size, embed_dim):\n",
    "    \"\"\"\n",
    "    Build part of the neural network\n",
    "    :param cell: RNN cell\n",
    "    :param rnn_size: Size of rnns\n",
    "    :param input_data: Input data\n",
    "    :param vocab_size: Vocabulary size\n",
    "    :param embed_dim: Number of embedding dimensions\n",
    "    :return: Tuple (Logits, FinalState)\n",
    "    \"\"\"\n",
    "    embed=get_embed(input_data,vocab_size,embed_dim)\n",
    "    \n",
    "    output,FinalState=build_rnn(cell,embed)\n",
    "    \n",
    "    Logits=tf.contrib.layers.fully_connected(output,vocab_size,activation_fn=None,weights_initializer=tf.truncated_normal_initializer(stddev=0.1))\n",
    "    \n",
    "    '''\n",
    "    \n",
    "    \n",
    "    splitarr=tf.split(output,num_or_size_splits=output.shape.as_list()[0],axis=0)\n",
    "    \n",
    "    weights=tf.get_variable(\"weight\",[rnn_size,vocab_size])\n",
    "    bias=tf.get_variable(\"bias\",[vocab_size])\n",
    "    \n",
    "    #weights = tf.Variable(tf.truncated_normal((rnn_size, vocab_size), stddev=0.1))\n",
    "    #bias = tf.Variable(tf.zeros(vocab_size))\n",
    "    \n",
    "    outy=[]\n",
    "    for nn in range(output.shape.as_list()[0]):\n",
    "        sp=tf.reshape(splitarr[nn],[output.shape.as_list()[1],output.shape.as_list()[2]])\n",
    "        out=tf.add(tf.matmul(sp,weights),bias)\n",
    "        outy.append(out)\n",
    "    \n",
    "    \n",
    "    #reshape_input = tf.reshape(tf.concat(output, axis=1), [-1, rnn_size])\n",
    "    #out=tf.add(tf.matmul(reshape_input,weights),bias)\n",
    "    Logits=tf.convert_to_tensor(outy, dtype=tf.float32)\n",
    "    #Logits=tf.reshape(Logits,shape=[output.shape.as_list()[0],output.shape.as_list()[1],vocab_size])\n",
    "    '''\n",
    "    \n",
    "    return Logits, FinalState\n",
    "\n",
    "\n",
    "\n",
    "\n",
    "\n",
    "\"\"\"\n",
    "DON'T MODIFY ANYTHING IN THIS CELL THAT IS BELOW THIS LINE\n",
    "\"\"\"\n",
    "tests.test_build_nn(build_nn)"
   ]
  },
  {
   "cell_type": "markdown",
   "metadata": {},
   "source": [
    "### Batches\n",
    "Implement `get_batches` to create batches of input and targets using `int_text`.  The batches should be a Numpy array with the shape `(number of batches, 2, batch size, sequence length)`. Each batch contains two elements:\n",
    "- The first element is a single batch of **input** with the shape `[batch size, sequence length]`\n",
    "- The second element is a single batch of **targets** with the shape `[batch size, sequence length]`\n",
    "\n",
    "If you can't fill the last batch with enough data, drop the last batch.\n",
    "\n",
    "For exmple, `get_batches([1, 2, 3, 4, 5, 6, 7, 8, 9, 10, 11, 12, 13, 14, 15, 16, 17, 18, 19, 20], 3, 2)` would return a Numpy array of the following:\n",
    "```\n",
    "[\n",
    "  # First Batch\n",
    "  [\n",
    "    # Batch of Input\n",
    "    [[ 1  2], [ 7  8], [13 14]]\n",
    "    # Batch of targets\n",
    "    [[ 2  3], [ 8  9], [14 15]]\n",
    "  ]\n",
    "\n",
    "  # Second Batch\n",
    "  [\n",
    "    # Batch of Input\n",
    "    [[ 3  4], [ 9 10], [15 16]]\n",
    "    # Batch of targets\n",
    "    [[ 4  5], [10 11], [16 17]]\n",
    "  ]\n",
    "\n",
    "  # Third Batch\n",
    "  [\n",
    "    # Batch of Input\n",
    "    [[ 5  6], [11 12], [17 18]]\n",
    "    # Batch of targets\n",
    "    [[ 6  7], [12 13], [18  1]]\n",
    "  ]\n",
    "]\n",
    "```\n",
    "\n",
    "Notice that the last target value in the last batch is the first input value of the first batch. In this case, `1`. This is a common technique used when creating sequence batches, although it is rather unintuitive."
   ]
  },
  {
   "cell_type": "code",
   "execution_count": 320,
   "metadata": {},
   "outputs": [
    {
     "name": "stdout",
     "output_type": "stream",
     "text": [
      "Tests Passed\n"
     ]
    }
   ],
   "source": [
    "def get_batches(int_text, batch_size, seq_length):\n",
    "    \"\"\"\n",
    "    Return batches of input and target\n",
    "    :param int_text: Text with the words replaced by their ids\n",
    "    :param batch_size: The size of batch\n",
    "    :param seq_length: The length of sequence\n",
    "    :return: Batches as a Numpy array\n",
    "    \"\"\"\n",
    "    # TODO: Implement Function\n",
    "    batch_length=batch_size*seq_length\n",
    "    n_batches=len(int_text)//batch_length\n",
    "    txtlst=int_text[:n_batches*batch_length]\n",
    "    \n",
    "    arrX=np.array(txtlst)\n",
    "    arrY=np.array(txtlst)\n",
    "    arrY[:-1],arrY[-1]=arrX[1:],arrX[0]\n",
    "    arrX_batch=arrX.reshape((batch_size,-1))\n",
    "    arrY_batch=arrY.reshape((batch_size,-1))\n",
    "    batches=np.zeros((n_batches,2,batch_size,seq_length))\n",
    "    for n in range(0,n_batches):\n",
    "        x=arrX_batch[:,(n*seq_length):(n*seq_length)+seq_length]\n",
    "        y=arrY_batch[:,(n*seq_length):(n*seq_length)+seq_length]\n",
    "        \n",
    "        sub_batch=np.array([x,y])\n",
    "        batches[n,:,:,:]=sub_batch\n",
    "    \n",
    "    return batches\n",
    "\n",
    "\n",
    "\"\"\"\n",
    "DON'T MODIFY ANYTHING IN THIS CELL THAT IS BELOW THIS LINE\n",
    "\"\"\"\n",
    "tests.test_get_batches(get_batches)"
   ]
  },
  {
   "cell_type": "markdown",
   "metadata": {},
   "source": [
    "##### Neural Network Training\n",
    "### Hyperparameters\n",
    "Tune the following parameters:\n",
    "\n",
    "- Set `num_epochs` to the number of epochs.\n",
    "- Set `batch_size` to the batch size.\n",
    "- Set `rnn_size` to the size of the RNNs.\n",
    "- Set `embed_dim` to the size of the embedding.\n",
    "- Set `seq_length` to the length of sequence.\n",
    "- Set `learning_rate` to the learning rate.\n",
    "- Set `show_every_n_batches` to the number of batches the neural network should print progress."
   ]
  },
  {
   "cell_type": "code",
   "execution_count": 332,
   "metadata": {},
   "outputs": [],
   "source": [
    "# Number of Epochs\n",
    "num_epochs = 2000\n",
    "# Batch Size\n",
    "batch_size = 256\n",
    "# RNN Size\n",
    "rnn_size = 256\n",
    "# Embedding Dimension Size\n",
    "embed_dim = 128\n",
    "# Sequence Length\n",
    "seq_length = 20\n",
    "# Learning Rate\n",
    "learning_rate = 0.001\n",
    "# Show stats for every n number of batches\n",
    "show_every_n_batches = 100\n",
    "\n",
    "\"\"\"\n",
    "DON'T MODIFY ANYTHING IN THIS CELL THAT IS BELOW THIS LINE\n",
    "\"\"\"\n",
    "save_dir = './save'"
   ]
  },
  {
   "cell_type": "markdown",
   "metadata": {},
   "source": [
    "### Build the Graph\n",
    "Build the graph using the neural network you implemented."
   ]
  },
  {
   "cell_type": "code",
   "execution_count": 333,
   "metadata": {},
   "outputs": [],
   "source": [
    "\"\"\"\n",
    "DON'T MODIFY ANYTHING IN THIS CELL\n",
    "\"\"\"\n",
    "from tensorflow.contrib import seq2seq\n",
    "\n",
    "train_graph = tf.Graph()\n",
    "with train_graph.as_default():\n",
    "    vocab_size = len(int_to_vocab)\n",
    "    input_text, targets, lr = get_inputs()\n",
    "    input_data_shape = tf.shape(input_text)\n",
    "    cell, initial_state = get_init_cell(input_data_shape[0], rnn_size)\n",
    "    logits, final_state = build_nn(cell, rnn_size, input_text, vocab_size, embed_dim)\n",
    "\n",
    "    # Probabilities for generating words\n",
    "    probs = tf.nn.softmax(logits, name='probs')\n",
    "\n",
    "    # Loss function\n",
    "    cost = seq2seq.sequence_loss(\n",
    "        logits,\n",
    "        targets,\n",
    "        tf.ones([input_data_shape[0], input_data_shape[1]]))\n",
    "\n",
    "    # Optimizer\n",
    "    optimizer = tf.train.AdamOptimizer(lr)\n",
    "\n",
    "    # Gradient Clipping\n",
    "    gradients = optimizer.compute_gradients(cost)\n",
    "    capped_gradients = [(tf.clip_by_value(grad, -1., 1.), var) for grad, var in gradients if grad is not None]\n",
    "    train_op = optimizer.apply_gradients(capped_gradients)"
   ]
  },
  {
   "cell_type": "markdown",
   "metadata": {},
   "source": [
    "## Train\n",
    "Train the neural network on the preprocessed data.  If you have a hard time getting a good loss, check the [forums](https://discussions.udacity.com/) to see if anyone is having the same problem."
   ]
  },
  {
   "cell_type": "code",
   "execution_count": 334,
   "metadata": {},
   "outputs": [
    {
     "name": "stdout",
     "output_type": "stream",
     "text": [
      "Epoch   0 Batch    0/13   train_loss = 8.823\n",
      "Epoch   7 Batch    9/13   train_loss = 5.555\n",
      "Epoch  15 Batch    5/13   train_loss = 4.960\n",
      "Epoch  23 Batch    1/13   train_loss = 4.632\n",
      "Epoch  30 Batch   10/13   train_loss = 4.425\n",
      "Epoch  38 Batch    6/13   train_loss = 4.209\n",
      "Epoch  46 Batch    2/13   train_loss = 3.865\n",
      "Epoch  53 Batch   11/13   train_loss = 3.704\n",
      "Epoch  61 Batch    7/13   train_loss = 3.531\n",
      "Epoch  69 Batch    3/13   train_loss = 3.372\n",
      "Epoch  76 Batch   12/13   train_loss = 3.192\n",
      "Epoch  84 Batch    8/13   train_loss = 2.978\n",
      "Epoch  92 Batch    4/13   train_loss = 2.840\n",
      "Epoch 100 Batch    0/13   train_loss = 2.621\n",
      "Epoch 107 Batch    9/13   train_loss = 2.457\n",
      "Epoch 115 Batch    5/13   train_loss = 2.435\n",
      "Epoch 123 Batch    1/13   train_loss = 2.256\n",
      "Epoch 130 Batch   10/13   train_loss = 2.057\n",
      "Epoch 138 Batch    6/13   train_loss = 1.921\n",
      "Epoch 146 Batch    2/13   train_loss = 1.966\n",
      "Epoch 153 Batch   11/13   train_loss = 1.688\n",
      "Epoch 161 Batch    7/13   train_loss = 1.522\n",
      "Epoch 169 Batch    3/13   train_loss = 1.571\n",
      "Epoch 176 Batch   12/13   train_loss = 1.421\n",
      "Epoch 184 Batch    8/13   train_loss = 1.319\n",
      "Epoch 192 Batch    4/13   train_loss = 1.265\n",
      "Epoch 200 Batch    0/13   train_loss = 1.157\n",
      "Epoch 207 Batch    9/13   train_loss = 0.995\n",
      "Epoch 215 Batch    5/13   train_loss = 0.990\n",
      "Epoch 223 Batch    1/13   train_loss = 0.928\n",
      "Epoch 230 Batch   10/13   train_loss = 0.769\n",
      "Epoch 238 Batch    6/13   train_loss = 0.704\n",
      "Epoch 246 Batch    2/13   train_loss = 0.766\n",
      "Epoch 253 Batch   11/13   train_loss = 0.603\n",
      "Epoch 261 Batch    7/13   train_loss = 0.576\n",
      "Epoch 269 Batch    3/13   train_loss = 0.581\n",
      "Epoch 276 Batch   12/13   train_loss = 0.481\n",
      "Epoch 284 Batch    8/13   train_loss = 0.463\n",
      "Epoch 292 Batch    4/13   train_loss = 0.408\n",
      "Epoch 300 Batch    0/13   train_loss = 0.373\n",
      "Epoch 307 Batch    9/13   train_loss = 0.342\n",
      "Epoch 315 Batch    5/13   train_loss = 0.330\n",
      "Epoch 323 Batch    1/13   train_loss = 0.282\n",
      "Epoch 330 Batch   10/13   train_loss = 0.273\n",
      "Epoch 338 Batch    6/13   train_loss = 0.265\n",
      "Epoch 346 Batch    2/13   train_loss = 0.311\n",
      "Epoch 353 Batch   11/13   train_loss = 0.233\n",
      "Epoch 361 Batch    7/13   train_loss = 0.215\n",
      "Epoch 369 Batch    3/13   train_loss = 0.221\n",
      "Epoch 376 Batch   12/13   train_loss = 0.191\n",
      "Epoch 384 Batch    8/13   train_loss = 0.199\n",
      "Epoch 392 Batch    4/13   train_loss = 0.179\n",
      "Epoch 400 Batch    0/13   train_loss = 0.172\n",
      "Epoch 407 Batch    9/13   train_loss = 0.177\n",
      "Epoch 415 Batch    5/13   train_loss = 0.171\n",
      "Epoch 423 Batch    1/13   train_loss = 0.171\n",
      "Epoch 430 Batch   10/13   train_loss = 0.171\n",
      "Epoch 438 Batch    6/13   train_loss = 0.161\n",
      "Epoch 446 Batch    2/13   train_loss = 0.161\n",
      "Epoch 453 Batch   11/13   train_loss = 0.157\n",
      "Epoch 461 Batch    7/13   train_loss = 0.162\n",
      "Epoch 469 Batch    3/13   train_loss = 0.165\n",
      "Epoch 476 Batch   12/13   train_loss = 0.151\n",
      "Epoch 484 Batch    8/13   train_loss = 0.161\n",
      "Epoch 492 Batch    4/13   train_loss = 0.146\n",
      "Epoch 500 Batch    0/13   train_loss = 0.141\n",
      "Epoch 507 Batch    9/13   train_loss = 0.150\n",
      "Epoch 515 Batch    5/13   train_loss = 0.144\n",
      "Epoch 523 Batch    1/13   train_loss = 0.152\n",
      "Epoch 530 Batch   10/13   train_loss = 0.151\n",
      "Epoch 538 Batch    6/13   train_loss = 0.145\n",
      "Epoch 546 Batch    2/13   train_loss = 0.145\n",
      "Epoch 553 Batch   11/13   train_loss = 0.144\n",
      "Epoch 561 Batch    7/13   train_loss = 0.152\n",
      "Epoch 569 Batch    3/13   train_loss = 0.191\n",
      "Epoch 576 Batch   12/13   train_loss = 0.195\n",
      "Epoch 584 Batch    8/13   train_loss = 0.154\n",
      "Epoch 592 Batch    4/13   train_loss = 0.139\n",
      "Epoch 600 Batch    0/13   train_loss = 0.133\n",
      "Epoch 607 Batch    9/13   train_loss = 0.144\n",
      "Epoch 615 Batch    5/13   train_loss = 0.137\n",
      "Epoch 623 Batch    1/13   train_loss = 0.146\n",
      "Epoch 630 Batch   10/13   train_loss = 0.146\n",
      "Epoch 638 Batch    6/13   train_loss = 0.139\n",
      "Epoch 646 Batch    2/13   train_loss = 0.140\n",
      "Epoch 653 Batch   11/13   train_loss = 0.139\n",
      "Epoch 661 Batch    7/13   train_loss = 0.147\n",
      "Epoch 669 Batch    3/13   train_loss = 0.148\n",
      "Epoch 676 Batch   12/13   train_loss = 0.137\n",
      "Epoch 684 Batch    8/13   train_loss = 0.148\n",
      "Epoch 692 Batch    4/13   train_loss = 0.134\n",
      "Epoch 700 Batch    0/13   train_loss = 0.130\n",
      "Epoch 707 Batch    9/13   train_loss = 0.141\n",
      "Epoch 715 Batch    5/13   train_loss = 0.134\n",
      "Epoch 723 Batch    1/13   train_loss = 0.144\n",
      "Epoch 730 Batch   10/13   train_loss = 0.143\n",
      "Epoch 738 Batch    6/13   train_loss = 0.137\n",
      "Epoch 746 Batch    2/13   train_loss = 0.138\n",
      "Epoch 753 Batch   11/13   train_loss = 0.137\n",
      "Epoch 761 Batch    7/13   train_loss = 0.145\n",
      "Epoch 769 Batch    3/13   train_loss = 0.146\n",
      "Epoch 776 Batch   12/13   train_loss = 0.136\n",
      "Epoch 784 Batch    8/13   train_loss = 0.146\n",
      "Epoch 792 Batch    4/13   train_loss = 0.133\n",
      "Epoch 800 Batch    0/13   train_loss = 0.128\n",
      "Epoch 807 Batch    9/13   train_loss = 0.139\n",
      "Epoch 815 Batch    5/13   train_loss = 0.133\n",
      "Epoch 823 Batch    1/13   train_loss = 0.142\n",
      "Epoch 830 Batch   10/13   train_loss = 0.142\n",
      "Epoch 838 Batch    6/13   train_loss = 0.136\n",
      "Epoch 846 Batch    2/13   train_loss = 0.137\n",
      "Epoch 853 Batch   11/13   train_loss = 0.136\n",
      "Epoch 861 Batch    7/13   train_loss = 0.144\n",
      "Epoch 869 Batch    3/13   train_loss = 0.145\n",
      "Epoch 876 Batch   12/13   train_loss = 0.135\n",
      "Epoch 884 Batch    8/13   train_loss = 0.145\n",
      "Epoch 892 Batch    4/13   train_loss = 0.132\n",
      "Epoch 900 Batch    0/13   train_loss = 0.127\n",
      "Epoch 907 Batch    9/13   train_loss = 0.138\n",
      "Epoch 915 Batch    5/13   train_loss = 0.132\n",
      "Epoch 923 Batch    1/13   train_loss = 0.142\n",
      "Epoch 930 Batch   10/13   train_loss = 0.141\n",
      "Epoch 938 Batch    6/13   train_loss = 0.135\n",
      "Epoch 946 Batch    2/13   train_loss = 0.136\n",
      "Epoch 953 Batch   11/13   train_loss = 0.135\n",
      "Epoch 961 Batch    7/13   train_loss = 0.143\n",
      "Epoch 969 Batch    3/13   train_loss = 0.145\n",
      "Epoch 976 Batch   12/13   train_loss = 0.134\n",
      "Epoch 984 Batch    8/13   train_loss = 0.144\n",
      "Epoch 992 Batch    4/13   train_loss = 0.131\n",
      "Epoch 1000 Batch    0/13   train_loss = 0.127\n",
      "Epoch 1007 Batch    9/13   train_loss = 0.138\n",
      "Epoch 1015 Batch    5/13   train_loss = 0.132\n",
      "Epoch 1023 Batch    1/13   train_loss = 0.154\n",
      "Epoch 1030 Batch   10/13   train_loss = 0.142\n",
      "Epoch 1038 Batch    6/13   train_loss = 0.136\n",
      "Epoch 1046 Batch    2/13   train_loss = 0.136\n",
      "Epoch 1053 Batch   11/13   train_loss = 0.135\n",
      "Epoch 1061 Batch    7/13   train_loss = 0.143\n",
      "Epoch 1069 Batch    3/13   train_loss = 0.144\n",
      "Epoch 1076 Batch   12/13   train_loss = 0.134\n",
      "Epoch 1084 Batch    8/13   train_loss = 0.144\n",
      "Epoch 1092 Batch    4/13   train_loss = 0.131\n",
      "Epoch 1100 Batch    0/13   train_loss = 0.126\n",
      "Epoch 1107 Batch    9/13   train_loss = 0.137\n",
      "Epoch 1115 Batch    5/13   train_loss = 0.131\n",
      "Epoch 1123 Batch    1/13   train_loss = 0.141\n",
      "Epoch 1130 Batch   10/13   train_loss = 0.140\n",
      "Epoch 1138 Batch    6/13   train_loss = 0.135\n",
      "Epoch 1146 Batch    2/13   train_loss = 0.135\n",
      "Epoch 1153 Batch   11/13   train_loss = 0.134\n",
      "Epoch 1161 Batch    7/13   train_loss = 0.142\n",
      "Epoch 1169 Batch    3/13   train_loss = 0.144\n",
      "Epoch 1176 Batch   12/13   train_loss = 0.133\n",
      "Epoch 1184 Batch    8/13   train_loss = 0.143\n",
      "Epoch 1192 Batch    4/13   train_loss = 0.130\n",
      "Epoch 1200 Batch    0/13   train_loss = 0.126\n",
      "Epoch 1207 Batch    9/13   train_loss = 0.137\n",
      "Epoch 1215 Batch    5/13   train_loss = 0.130\n",
      "Epoch 1223 Batch    1/13   train_loss = 0.140\n",
      "Epoch 1230 Batch   10/13   train_loss = 0.140\n",
      "Epoch 1238 Batch    6/13   train_loss = 0.134\n",
      "Epoch 1246 Batch    2/13   train_loss = 0.135\n",
      "Epoch 1253 Batch   11/13   train_loss = 0.134\n",
      "Epoch 1261 Batch    7/13   train_loss = 0.142\n",
      "Epoch 1269 Batch    3/13   train_loss = 0.144\n",
      "Epoch 1276 Batch   12/13   train_loss = 0.133\n",
      "Epoch 1284 Batch    8/13   train_loss = 0.143\n",
      "Epoch 1292 Batch    4/13   train_loss = 0.130\n",
      "Epoch 1300 Batch    0/13   train_loss = 0.126\n",
      "Epoch 1307 Batch    9/13   train_loss = 0.137\n",
      "Epoch 1315 Batch    5/13   train_loss = 0.130\n",
      "Epoch 1323 Batch    1/13   train_loss = 0.140\n",
      "Epoch 1330 Batch   10/13   train_loss = 0.140\n",
      "Epoch 1338 Batch    6/13   train_loss = 0.134\n",
      "Epoch 1346 Batch    2/13   train_loss = 0.134\n",
      "Epoch 1353 Batch   11/13   train_loss = 0.134\n",
      "Epoch 1361 Batch    7/13   train_loss = 0.142\n",
      "Epoch 1369 Batch    3/13   train_loss = 0.143\n",
      "Epoch 1376 Batch   12/13   train_loss = 0.133\n",
      "Epoch 1384 Batch    8/13   train_loss = 0.143\n"
     ]
    },
    {
     "name": "stdout",
     "output_type": "stream",
     "text": [
      "Epoch 1392 Batch    4/13   train_loss = 0.130\n",
      "Epoch 1400 Batch    0/13   train_loss = 0.125\n",
      "Epoch 1407 Batch    9/13   train_loss = 0.137\n",
      "Epoch 1415 Batch    5/13   train_loss = 0.130\n",
      "Epoch 1423 Batch    1/13   train_loss = 0.140\n",
      "Epoch 1430 Batch   10/13   train_loss = 0.140\n",
      "Epoch 1438 Batch    6/13   train_loss = 0.134\n",
      "Epoch 1446 Batch    2/13   train_loss = 0.134\n",
      "Epoch 1453 Batch   11/13   train_loss = 0.134\n",
      "Epoch 1461 Batch    7/13   train_loss = 0.142\n",
      "Epoch 1469 Batch    3/13   train_loss = 0.143\n",
      "Epoch 1476 Batch   12/13   train_loss = 0.133\n",
      "Epoch 1484 Batch    8/13   train_loss = 0.143\n",
      "Epoch 1492 Batch    4/13   train_loss = 0.130\n",
      "Epoch 1500 Batch    0/13   train_loss = 0.125\n",
      "Epoch 1507 Batch    9/13   train_loss = 0.136\n",
      "Epoch 1515 Batch    5/13   train_loss = 0.130\n",
      "Epoch 1523 Batch    1/13   train_loss = 0.140\n",
      "Epoch 1530 Batch   10/13   train_loss = 0.139\n",
      "Epoch 1538 Batch    6/13   train_loss = 0.134\n",
      "Epoch 1546 Batch    2/13   train_loss = 0.134\n",
      "Epoch 1553 Batch   11/13   train_loss = 0.134\n",
      "Epoch 1561 Batch    7/13   train_loss = 0.142\n",
      "Epoch 1569 Batch    3/13   train_loss = 0.143\n",
      "Epoch 1576 Batch   12/13   train_loss = 0.132\n",
      "Epoch 1584 Batch    8/13   train_loss = 0.143\n",
      "Epoch 1592 Batch    4/13   train_loss = 0.130\n",
      "Epoch 1600 Batch    0/13   train_loss = 0.125\n",
      "Epoch 1607 Batch    9/13   train_loss = 0.136\n",
      "Epoch 1615 Batch    5/13   train_loss = 0.130\n",
      "Epoch 1623 Batch    1/13   train_loss = 0.140\n",
      "Epoch 1630 Batch   10/13   train_loss = 0.139\n",
      "Epoch 1638 Batch    6/13   train_loss = 0.134\n",
      "Epoch 1646 Batch    2/13   train_loss = 0.134\n",
      "Epoch 1653 Batch   11/13   train_loss = 0.133\n",
      "Epoch 1661 Batch    7/13   train_loss = 0.141\n",
      "Epoch 1669 Batch    3/13   train_loss = 0.143\n",
      "Epoch 1676 Batch   12/13   train_loss = 0.132\n",
      "Epoch 1684 Batch    8/13   train_loss = 0.142\n",
      "Epoch 1692 Batch    4/13   train_loss = 0.129\n",
      "Epoch 1700 Batch    0/13   train_loss = 0.125\n",
      "Epoch 1707 Batch    9/13   train_loss = 0.136\n",
      "Epoch 1715 Batch    5/13   train_loss = 0.130\n",
      "Epoch 1723 Batch    1/13   train_loss = 0.298\n",
      "Epoch 1730 Batch   10/13   train_loss = 0.141\n",
      "Epoch 1738 Batch    6/13   train_loss = 0.134\n",
      "Epoch 1746 Batch    2/13   train_loss = 0.134\n",
      "Epoch 1753 Batch   11/13   train_loss = 0.134\n",
      "Epoch 1761 Batch    7/13   train_loss = 0.142\n",
      "Epoch 1769 Batch    3/13   train_loss = 0.143\n",
      "Epoch 1776 Batch   12/13   train_loss = 0.132\n",
      "Epoch 1784 Batch    8/13   train_loss = 0.142\n",
      "Epoch 1792 Batch    4/13   train_loss = 0.129\n",
      "Epoch 1800 Batch    0/13   train_loss = 0.125\n",
      "Epoch 1807 Batch    9/13   train_loss = 0.136\n",
      "Epoch 1815 Batch    5/13   train_loss = 0.129\n",
      "Epoch 1823 Batch    1/13   train_loss = 0.139\n",
      "Epoch 1830 Batch   10/13   train_loss = 0.139\n",
      "Epoch 1838 Batch    6/13   train_loss = 0.133\n",
      "Epoch 1846 Batch    2/13   train_loss = 0.134\n",
      "Epoch 1853 Batch   11/13   train_loss = 0.133\n",
      "Epoch 1861 Batch    7/13   train_loss = 0.141\n",
      "Epoch 1869 Batch    3/13   train_loss = 0.143\n",
      "Epoch 1876 Batch   12/13   train_loss = 0.132\n",
      "Epoch 1884 Batch    8/13   train_loss = 0.142\n",
      "Epoch 1892 Batch    4/13   train_loss = 0.129\n",
      "Epoch 1900 Batch    0/13   train_loss = 0.125\n",
      "Epoch 1907 Batch    9/13   train_loss = 0.136\n",
      "Epoch 1915 Batch    5/13   train_loss = 0.129\n",
      "Epoch 1923 Batch    1/13   train_loss = 0.139\n",
      "Epoch 1930 Batch   10/13   train_loss = 0.139\n",
      "Epoch 1938 Batch    6/13   train_loss = 0.133\n",
      "Epoch 1946 Batch    2/13   train_loss = 0.134\n",
      "Epoch 1953 Batch   11/13   train_loss = 0.133\n",
      "Epoch 1961 Batch    7/13   train_loss = 0.141\n",
      "Epoch 1969 Batch    3/13   train_loss = 0.142\n",
      "Epoch 1976 Batch   12/13   train_loss = 0.132\n",
      "Epoch 1984 Batch    8/13   train_loss = 0.142\n",
      "Epoch 1992 Batch    4/13   train_loss = 0.129\n",
      "Model Trained and Saved\n"
     ]
    }
   ],
   "source": [
    "\"\"\"\n",
    "DON'T MODIFY ANYTHING IN THIS CELL\n",
    "\"\"\"\n",
    "batches = get_batches(int_text, batch_size, seq_length)\n",
    "\n",
    "with tf.Session(graph=train_graph) as sess:\n",
    "    sess.run(tf.global_variables_initializer())\n",
    "\n",
    "    for epoch_i in range(num_epochs):\n",
    "        state = sess.run(initial_state, {input_text: batches[0][0]})\n",
    "\n",
    "        for batch_i, (x, y) in enumerate(batches):\n",
    "            feed = {\n",
    "                input_text: x,\n",
    "                targets: y,\n",
    "                initial_state: state,\n",
    "                lr: learning_rate}\n",
    "            train_loss, state, _ = sess.run([cost, final_state, train_op], feed)\n",
    "\n",
    "            # Show every <show_every_n_batches> batches\n",
    "            if (epoch_i * len(batches) + batch_i) % show_every_n_batches == 0:\n",
    "                print('Epoch {:>3} Batch {:>4}/{}   train_loss = {:.3f}'.format(\n",
    "                    epoch_i,\n",
    "                    batch_i,\n",
    "                    len(batches),\n",
    "                    train_loss))\n",
    "\n",
    "    # Save Model\n",
    "    saver = tf.train.Saver()\n",
    "    saver.save(sess, save_dir)\n",
    "    print('Model Trained and Saved')"
   ]
  },
  {
   "cell_type": "markdown",
   "metadata": {},
   "source": [
    "## Save Parameters\n",
    "Save `seq_length` and `save_dir` for generating a new TV script."
   ]
  },
  {
   "cell_type": "code",
   "execution_count": 335,
   "metadata": {},
   "outputs": [],
   "source": [
    "\"\"\"\n",
    "DON'T MODIFY ANYTHING IN THIS CELL\n",
    "\"\"\"\n",
    "# Save parameters for checkpoint\n",
    "helper.save_params((seq_length, save_dir))"
   ]
  },
  {
   "cell_type": "markdown",
   "metadata": {},
   "source": [
    "# Checkpoint"
   ]
  },
  {
   "cell_type": "code",
   "execution_count": 336,
   "metadata": {},
   "outputs": [],
   "source": [
    "\"\"\"\n",
    "DON'T MODIFY ANYTHING IN THIS CELL\n",
    "\"\"\"\n",
    "import tensorflow as tf\n",
    "import numpy as np\n",
    "import helper\n",
    "import problem_unittests as tests\n",
    "\n",
    "_, vocab_to_int, int_to_vocab, token_dict = helper.load_preprocess()\n",
    "seq_length, load_dir = helper.load_params()"
   ]
  },
  {
   "cell_type": "markdown",
   "metadata": {},
   "source": [
    "## Implement Generate Functions\n",
    "### Get Tensors\n",
    "Get tensors from `loaded_graph` using the function [`get_tensor_by_name()`](https://www.tensorflow.org/api_docs/python/tf/Graph#get_tensor_by_name).  Get the tensors using the following names:\n",
    "- \"input:0\"\n",
    "- \"initial_state:0\"\n",
    "- \"final_state:0\"\n",
    "- \"probs:0\"\n",
    "\n",
    "Return the tensors in the following tuple `(InputTensor, InitialStateTensor, FinalStateTensor, ProbsTensor)` "
   ]
  },
  {
   "cell_type": "code",
   "execution_count": 337,
   "metadata": {},
   "outputs": [
    {
     "name": "stdout",
     "output_type": "stream",
     "text": [
      "Tests Passed\n"
     ]
    }
   ],
   "source": [
    "def get_tensors(loaded_graph):\n",
    "    \"\"\"\n",
    "    Get input, initial state, final state, and probabilities tensor from <loaded_graph>\n",
    "    :param loaded_graph: TensorFlow graph loaded from file\n",
    "    :return: Tuple (InputTensor, InitialStateTensor, FinalStateTensor, ProbsTensor)\n",
    "    \"\"\"\n",
    "    # TODO: Implement Function\n",
    "    InputTensor=loaded_graph.get_tensor_by_name(\"input:0\")\n",
    "    InitialStateTensor=loaded_graph.get_tensor_by_name(\"initial_state:0\")\n",
    "    FinalStateTensor=loaded_graph.get_tensor_by_name(\"final_state:0\")\n",
    "    ProbsTensor=loaded_graph.get_tensor_by_name(\"probs:0\")\n",
    "        \n",
    "    return InputTensor, InitialStateTensor, FinalStateTensor, ProbsTensor\n",
    "\n",
    "\n",
    "\"\"\"\n",
    "DON'T MODIFY ANYTHING IN THIS CELL THAT IS BELOW THIS LINE\n",
    "\"\"\"\n",
    "tests.test_get_tensors(get_tensors)"
   ]
  },
  {
   "cell_type": "markdown",
   "metadata": {},
   "source": [
    "### Choose Word\n",
    "Implement the `pick_word()` function to select the next word using `probabilities`."
   ]
  },
  {
   "cell_type": "code",
   "execution_count": 338,
   "metadata": {},
   "outputs": [
    {
     "name": "stdout",
     "output_type": "stream",
     "text": [
      "Tests Passed\n"
     ]
    }
   ],
   "source": [
    "def pick_word(probabilities, int_to_vocab):\n",
    "    \"\"\"\n",
    "    Pick the next word in the generated text\n",
    "    :param probabilities: Probabilites of the next word\n",
    "    :param int_to_vocab: Dictionary of word ids as the keys and words as the values\n",
    "    :return: String of the predicted word\n",
    "    \"\"\"\n",
    "    # TODO: Implement Function\n",
    "    \n",
    "    op=np.where(probabilities==np.max(probabilities))\n",
    "    \n",
    "    return int_to_vocab[op[0][0]]\n",
    "\n",
    "\n",
    "\"\"\"\n",
    "DON'T MODIFY ANYTHING IN THIS CELL THAT IS BELOW THIS LINE\n",
    "\"\"\"\n",
    "tests.test_pick_word(pick_word)"
   ]
  },
  {
   "cell_type": "markdown",
   "metadata": {},
   "source": [
    "## Generate TV Script\n",
    "This will generate the TV script for you.  Set `gen_length` to the length of TV script you want to generate."
   ]
  },
  {
   "cell_type": "code",
   "execution_count": 339,
   "metadata": {},
   "outputs": [
    {
     "name": "stdout",
     "output_type": "stream",
     "text": [
      "INFO:tensorflow:Restoring parameters from ./save\n",
      "moe_szyslak:(into phone) gotcha ya down for forty bucks. good luck your eminence.\n",
      "moe_szyslak: sorry, homer. you shouldn't be spending your last room and your truth\n",
      "carl_carlson:(sincere) see ya go. no man, uh...\n",
      "c. _montgomery_burns: we called me a\" flaming moe\".\"\n",
      "homer_simpson: yeah, but it'll be--(to homer) he call the house what makes me walk on the bar rag.\n",
      "moe_szyslak: hey, hey, no. not good than i can never very walk.\n",
      "moe_szyslak:(chuckles)\n",
      "homer_simpson:(to self, happily) i was to know that / and the super bowl... to wear... homer.(proudly)\n",
      "moe_szyslak: yeah, he is serious. they're just on the house, somewhere on earth there's a day and watching myself in the house.\n",
      "moe_szyslak: hey, a little go, moe.\n",
      "barney_gumble:(indignant) i can't believe we're out of your stealings on their wall. this might get us.\n",
      "\n"
     ]
    }
   ],
   "source": [
    "gen_length = 200\n",
    "# homer_simpson, moe_szyslak, or Barney_Gumble\n",
    "prime_word = 'moe_szyslak'\n",
    "\n",
    "\"\"\"\n",
    "DON'T MODIFY ANYTHING IN THIS CELL THAT IS BELOW THIS LINE\n",
    "\"\"\"\n",
    "loaded_graph = tf.Graph()\n",
    "with tf.Session(graph=loaded_graph) as sess:\n",
    "    # Load saved model\n",
    "    loader = tf.train.import_meta_graph(load_dir + '.meta')\n",
    "    loader.restore(sess, load_dir)\n",
    "\n",
    "    # Get Tensors from loaded model\n",
    "    input_text, initial_state, final_state, probs = get_tensors(loaded_graph)\n",
    "\n",
    "    # Sentences generation setup\n",
    "    gen_sentences = [prime_word + ':']\n",
    "    prev_state = sess.run(initial_state, {input_text: np.array([[1]])})\n",
    "\n",
    "    # Generate sentences\n",
    "    for n in range(gen_length):\n",
    "        # Dynamic Input\n",
    "        dyn_input = [[vocab_to_int[word] for word in gen_sentences[-seq_length:]]]\n",
    "        dyn_seq_length = len(dyn_input[0])\n",
    "\n",
    "        # Get Prediction\n",
    "        probabilities, prev_state = sess.run(\n",
    "            [probs, final_state],\n",
    "            {input_text: dyn_input, initial_state: prev_state})\n",
    "        \n",
    "        pred_word = pick_word(probabilities[dyn_seq_length-1], int_to_vocab)\n",
    "\n",
    "        gen_sentences.append(pred_word)\n",
    "    \n",
    "    # Remove tokens\n",
    "    tv_script = ' '.join(gen_sentences)\n",
    "    for key, token in token_dict.items():\n",
    "        ending = ' ' if key in ['\\n', '(', '\"'] else ''\n",
    "        tv_script = tv_script.replace(' ' + token.lower(), key)\n",
    "    tv_script = tv_script.replace('\\n ', '\\n')\n",
    "    tv_script = tv_script.replace('( ', '(')\n",
    "        \n",
    "    print(tv_script)"
   ]
  },
  {
   "cell_type": "markdown",
   "metadata": {},
   "source": [
    "# The TV Script is Nonsensical\n",
    "It's ok if the TV script doesn't make any sense.  We trained on less than a megabyte of text.  In order to get good results, you'll have to use a smaller vocabulary or get more data.  Luckly there's more data!  As we mentioned in the begging of this project, this is a subset of [another dataset](https://www.kaggle.com/wcukierski/the-simpsons-by-the-data).  We didn't have you train on all the data, because that would take too long.  However, you are free to train your neural network on all the data.  After you complete the project, of course.\n",
    "# Submitting This Project\n",
    "When submitting this project, make sure to run all the cells before saving the notebook. Save the notebook file as \"dlnd_tv_script_generation.ipynb\" and save it as a HTML file under \"File\" -> \"Download as\". Include the \"helper.py\" and \"problem_unittests.py\" files in your submission."
   ]
  },
  {
   "cell_type": "code",
   "execution_count": null,
   "metadata": {},
   "outputs": [],
   "source": []
  }
 ],
 "metadata": {
  "kernelspec": {
   "display_name": "Python 3",
   "language": "python",
   "name": "python3"
  },
  "language_info": {
   "codemirror_mode": {
    "name": "ipython",
    "version": 3
   },
   "file_extension": ".py",
   "mimetype": "text/x-python",
   "name": "python",
   "nbconvert_exporter": "python",
   "pygments_lexer": "ipython3",
   "version": "3.5.4"
  },
  "widgets": {
   "state": {},
   "version": "1.1.2"
  }
 },
 "nbformat": 4,
 "nbformat_minor": 1
}
